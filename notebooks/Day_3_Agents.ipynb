{
 "cells": [
  {
   "cell_type": "markdown",
   "id": "6acf9ccb-a7b1-449c-9db1-d99f896ff4d2",
   "metadata": {},
   "source": [
    "# Day 4: Agents\n",
    "\n",
    "<div style=\"text-align:center;\">\n",
    "    <img src=\"../assets/wf_a.png\" width=\"\" height=\"\"/>\n",
    "</div>"
   ]
  },
  {
   "cell_type": "markdown",
   "id": "981378e8-5f44-4929-a66f-7dc67b52bb9a",
   "metadata": {},
   "source": [
    "**Summary:** In this notebook, we will start learning about agents. How we can use Langhchain and a new tool called [Langgraph](https://langchain-ai.github.io/langgraph/concepts/why-langgraph/#learn-langgraph-basics) to build agentic systems.\n",
    "\n",
    "Recommended Reading:\n",
    "+ [Building Effective Agent - Anthropic](https://www.anthropic.com/engineering/building-effective-agents)"
   ]
  },
  {
   "cell_type": "markdown",
   "id": "e1b53a46-45a9-494a-8a44-eea49d9324a6",
   "metadata": {},
   "source": [
    "# Part 1: Agents\n",
    "\n",
    "One way to think about agents is an LLM that has access to a tool or tools. Whenever it needs that tool to answer a question it uses the tool. If it doesn't need the tool to answer a question it doesn't use it. \n",
    "\n",
    "For example, what if ChatGPT could use a calculator to answer an addition question or if it could Google a fact if it needed more information about something to answer a question.\n",
    "\n",
    "\n",
    "<div style=\"text-align:center;\">\n",
    "    <img src=\"../assets/agents.png\" width=\"\" height=\"\"/>\n",
    "</div>\n",
    "\n",
    "\n",
    "**Tools:** You can think of tools as functions. Your tools can be something as simple as addition or something more complicated like searching the web to find results. We'll be using Langchain to build out our tools, which will look like functuions and pass it to the LLM for use. \n",
    "\n",
    "Then based on our question the LLM will decide on whether it makes sense to use of the tool. Langchain make it easy with the `@tool` decorator. Let's start..."
   ]
  },
  {
   "cell_type": "code",
   "execution_count": 1,
   "id": "512098e4-14dd-4bc9-935f-699daa870103",
   "metadata": {},
   "outputs": [],
   "source": [
    "import os\n",
    "from dotenv import load_dotenv\n",
    "load_dotenv()\n",
    "\n",
    "from langgraph.prebuilt import create_react_agent\n",
    "from langchain_openai import ChatOpenAI\n",
    "from langchain_core.tools import tool\n",
    "from langchain_openai import OpenAIEmbeddings\n",
    "from langchain_chroma import Chroma"
   ]
  },
  {
   "cell_type": "code",
   "execution_count": 3,
   "id": "c61e2f01-d6cc-4d2c-baa4-3b11fba21efe",
   "metadata": {},
   "outputs": [],
   "source": [
    "openai_api_key = os.environ.get(\"OPENAI_API_KEY\")\n",
    "openai_organization = os.environ.get(\"OPENAI_ORGANIZATION\")"
   ]
  },
  {
   "cell_type": "code",
   "execution_count": 4,
   "id": "e17c7084-9ec0-4100-9994-51827cb74d18",
   "metadata": {},
   "outputs": [],
   "source": [
    "# Step 1: Define an additional tool. \n",
    "#    Out first tool will take two numbers add them and return the result\n",
    "\n",
    "@tool\n",
    "def addition(x: int, y: int) -> int:\n",
    "    \"\"\"This function is used to add two numbers together and return the result\"\"\"\n",
    "    return x + y\n",
    "\n",
    "# Step 2: Add tools to your list of tools\n",
    "tools = [addition]\n",
    "\n",
    "# Step 3: Instantiate a model\n",
    "llm = ChatOpenAI(\n",
    "    openai_api_key = openai_api_key, \n",
    "    openai_organization = openai_organization,\n",
    "    model = \"gpt-4o-mini\")\n",
    "\n",
    "# Step 4: Create an agent\n",
    "agent = create_react_agent(llm, tools=tools)"
   ]
  },
  {
   "cell_type": "code",
   "execution_count": 6,
   "id": "3e4a4a66-f52a-43f1-b9c1-0ad9f60dd793",
   "metadata": {},
   "outputs": [],
   "source": [
    "# Step 5: Use your agent + tool to ask a question about addition.\n",
    "response = agent.invoke({\"messages\":\"What is 1 + 1?\"})"
   ]
  },
  {
   "cell_type": "code",
   "execution_count": 7,
   "id": "0e6ee337-0a32-4e76-ae5d-75c06c61674a",
   "metadata": {},
   "outputs": [
    {
     "name": "stdout",
     "output_type": "stream",
     "text": [
      "-------------------\n",
      "content='What is 1 + 1?' additional_kwargs={} response_metadata={} id='50dbedeb-5bce-41b3-9c81-caac64dde3ca'\n",
      "-------------------\n",
      "content='' additional_kwargs={'tool_calls': [{'id': 'call_GS7Fbi8j7R7xvfpPDwfrhU52', 'function': {'arguments': '{\"x\":1,\"y\":1}', 'name': 'addition'}, 'type': 'function'}], 'refusal': None} response_metadata={'token_usage': {'completion_tokens': 18, 'prompt_tokens': 62, 'total_tokens': 80, 'completion_tokens_details': {'accepted_prediction_tokens': 0, 'audio_tokens': 0, 'reasoning_tokens': 0, 'rejected_prediction_tokens': 0}, 'prompt_tokens_details': {'audio_tokens': 0, 'cached_tokens': 0}}, 'model_name': 'gpt-4o-mini-2024-07-18', 'system_fingerprint': 'fp_34a54ae93c', 'finish_reason': 'tool_calls', 'logprobs': None} id='run--d852f269-ecea-4932-9e96-0d725104ea11-0' tool_calls=[{'name': 'addition', 'args': {'x': 1, 'y': 1}, 'id': 'call_GS7Fbi8j7R7xvfpPDwfrhU52', 'type': 'tool_call'}] usage_metadata={'input_tokens': 62, 'output_tokens': 18, 'total_tokens': 80, 'input_token_details': {'audio': 0, 'cache_read': 0}, 'output_token_details': {'audio': 0, 'reasoning': 0}}\n",
      "-------------------\n",
      "content='2' name='addition' id='c3234ef0-28d0-4407-b928-c8f67b20ab53' tool_call_id='call_GS7Fbi8j7R7xvfpPDwfrhU52'\n",
      "-------------------\n",
      "content='1 + 1 equals 2.' additional_kwargs={'refusal': None} response_metadata={'token_usage': {'completion_tokens': 9, 'prompt_tokens': 88, 'total_tokens': 97, 'completion_tokens_details': {'accepted_prediction_tokens': 0, 'audio_tokens': 0, 'reasoning_tokens': 0, 'rejected_prediction_tokens': 0}, 'prompt_tokens_details': {'audio_tokens': 0, 'cached_tokens': 0}}, 'model_name': 'gpt-4o-mini-2024-07-18', 'system_fingerprint': 'fp_34a54ae93c', 'finish_reason': 'stop', 'logprobs': None} id='run--42dec289-9268-4e7a-8e4e-69ffd9809f05-0' usage_metadata={'input_tokens': 88, 'output_tokens': 9, 'total_tokens': 97, 'input_token_details': {'audio': 0, 'cache_read': 0}, 'output_token_details': {'audio': 0, 'reasoning': 0}}\n"
     ]
    }
   ],
   "source": [
    "for msg in response[\"messages\"]:\n",
    "    print(\"-------------------\")\n",
    "    print(msg)"
   ]
  },
  {
   "cell_type": "code",
   "execution_count": 8,
   "id": "de628ecf-c354-42b2-9d51-9db1d8dc36d6",
   "metadata": {},
   "outputs": [],
   "source": [
    "# Let's test our agent on questions that don't have to do with addition....\n",
    "response = agent.invoke({\"messages\":\"What is the capital of Indonesia?\"})"
   ]
  },
  {
   "cell_type": "code",
   "execution_count": 9,
   "id": "02faabcf-b99b-4855-9f4d-1190a55b8760",
   "metadata": {},
   "outputs": [
    {
     "name": "stdout",
     "output_type": "stream",
     "text": [
      "-------------------\n",
      "content='What is the capital of Indonesia?' additional_kwargs={} response_metadata={} id='ba006657-f742-4bf1-b1f4-3797f7c03a09'\n",
      "-------------------\n",
      "content='The capital of Indonesia is Jakarta.' additional_kwargs={'refusal': None} response_metadata={'token_usage': {'completion_tokens': 8, 'prompt_tokens': 61, 'total_tokens': 69, 'completion_tokens_details': {'accepted_prediction_tokens': 0, 'audio_tokens': 0, 'reasoning_tokens': 0, 'rejected_prediction_tokens': 0}, 'prompt_tokens_details': {'audio_tokens': 0, 'cached_tokens': 0}}, 'model_name': 'gpt-4o-mini-2024-07-18', 'system_fingerprint': 'fp_34a54ae93c', 'finish_reason': 'stop', 'logprobs': None} id='run--718cd41d-a129-4433-ac49-7aae0f9b4e79-0' usage_metadata={'input_tokens': 61, 'output_tokens': 8, 'total_tokens': 69, 'input_token_details': {'audio': 0, 'cache_read': 0}, 'output_token_details': {'audio': 0, 'reasoning': 0}}\n"
     ]
    }
   ],
   "source": [
    "for msg in response[\"messages\"]:\n",
    "    print(\"-------------------\")\n",
    "    print(msg)"
   ]
  },
  {
   "cell_type": "markdown",
   "id": "57f2be52-9ffa-4b83-8e73-4df5a04e2c47",
   "metadata": {},
   "source": [
    "### Let's look at what just happend\n",
    "\n",
    "Question 1: What is 1 + 1?\n",
    "\n",
    "```mermaid\n",
    "flowchart LR\n",
    "    node1[Question 1]\n",
    "    node2[LLM asks is tool needed?]\n",
    "    node3[Agent]\n",
    "    node4[Agent]\n",
    "    node5[Answer]\n",
    "    node6[addition tool]\n",
    "    node7[Answer]\n",
    "    node1 ---> node2\n",
    "    node2 -- No --> node3\n",
    "    node2 -- Yes --> node4\n",
    "    node3 --> node5\n",
    "    node4 <--> node6\n",
    "    node4 ---> node7\n",
    "\n",
    "   subgraph highlight [\" \"]\n",
    "        node4\n",
    "        node6\n",
    "        node7\n",
    "    end\n",
    "```\n",
    "---\n",
    "Question 2: What is the capital of Indonesia?\n",
    "\n",
    "```mermaid\n",
    "flowchart LR\n",
    "    node1[Question 2]\n",
    "    node2[LLM asks is tool needed?]\n",
    "    node3[Agent]\n",
    "    node4[Agent]\n",
    "    node5[Answer]\n",
    "    node6[addition tool]\n",
    "    node7[Answer]\n",
    "    node1 ---> node2\n",
    "    node2 -- No --> node3\n",
    "    node2 -- Yes --> node4\n",
    "    node3 --> node5\n",
    "    node4 <--> node6\n",
    "    node4 ---> node7\n",
    "\n",
    "    subgraph highlight [\" \"]\n",
    "        node3\n",
    "        node5\n",
    "    end\n",
    "    \n",
    "```"
   ]
  },
  {
   "cell_type": "markdown",
   "id": "096bd780-af2a-4e1b-9769-dcb400efe1eb",
   "metadata": {},
   "source": [
    "# Step 2: More About Tools...\n",
    "\n",
    "+ We do not need to limit the amount of tools to use to just one. We can set up multiple different tools for different things so let's try that."
   ]
  },
  {
   "cell_type": "code",
   "execution_count": 10,
   "id": "a15af703-7857-4dd1-befa-4df84edbf35c",
   "metadata": {},
   "outputs": [],
   "source": [
    "@tool\n",
    "def multiplication(x: int, y: int) -> int:\n",
    "    \"\"\"Use the tool whenever you need to multiply two different numbers and return the result\"\"\"\n",
    "    return x * y\n",
    "\n",
    "@tool\n",
    "def celsius_to_fahrenheit(c: float):\n",
    "    \" Converts celsius to fahrenheit \"\n",
    "    return (c * 9/5) + 32 \n",
    "\n",
    "@tool\n",
    "def vector_search(question: str) -> str:\n",
    "    \"\"\" Function whenever a user is asking about querying my first database \"\"\"\n",
    "    embeddings = OpenAIEmbeddings(openai_api_key=openai_api_key,\n",
    "                                  model=\"text-embedding-3-large\",\n",
    "                                  chunk_size=1000)\n",
    "    \n",
    "    vector_store = Chroma(collection_name=\"tumo_2025\",\n",
    "                          embedding_function=embeddings,\n",
    "                          persist_directory=\"../db/my_first_vdb/\")\n",
    "    \n",
    "    retriever = vector_store.as_retriever(search_kwargs={\"k\": 10})\n",
    "    \n",
    "    return retriever.invoke(question)"
   ]
  },
  {
   "cell_type": "code",
   "execution_count": 11,
   "id": "cf5f5cec-ba1d-4987-a10c-779576821ceb",
   "metadata": {},
   "outputs": [],
   "source": [
    "tools = [multiplication, celsius_to_fahrenheit, vector_search]"
   ]
  },
  {
   "cell_type": "code",
   "execution_count": 12,
   "id": "11c09703-4101-4010-b573-b3a7e6854084",
   "metadata": {},
   "outputs": [],
   "source": [
    "llm = ChatOpenAI(\n",
    "    openai_api_key = openai_api_key, \n",
    "    openai_organization = openai_organization,\n",
    "    model = \"gpt-4o-mini\")\n",
    "\n",
    "agent = create_react_agent(llm, tools=tools)"
   ]
  },
  {
   "cell_type": "code",
   "execution_count": 15,
   "id": "9d89aa88-f210-4217-be70-9a13db7eed46",
   "metadata": {},
   "outputs": [],
   "source": [
    "response1 = agent.invoke({\"messages\":\"Convert 32 degrees Celsius to Fahrenheit\"})"
   ]
  },
  {
   "cell_type": "code",
   "execution_count": 20,
   "id": "80964b92-d4c4-4266-87e9-f3e302f06bf8",
   "metadata": {},
   "outputs": [
    {
     "name": "stdout",
     "output_type": "stream",
     "text": [
      "-----------------------\n",
      "content='Convert 32 degrees Celsius to Fahrenheit' additional_kwargs={} response_metadata={} id='a774fa4b-9f32-46ad-ab59-8e3230543fb5'\n",
      "-----------------------\n",
      "content='' additional_kwargs={'tool_calls': [{'id': 'call_UYiQdfCNshaIPIdFUkVzeLzF', 'function': {'arguments': '{\"c\":32}', 'name': 'celsius_to_fahrenheit'}, 'type': 'function'}], 'refusal': None} response_metadata={'token_usage': {'completion_tokens': 17, 'prompt_tokens': 113, 'total_tokens': 130, 'completion_tokens_details': {'accepted_prediction_tokens': 0, 'audio_tokens': 0, 'reasoning_tokens': 0, 'rejected_prediction_tokens': 0}, 'prompt_tokens_details': {'audio_tokens': 0, 'cached_tokens': 0}}, 'model_name': 'gpt-4o-mini-2024-07-18', 'system_fingerprint': 'fp_34a54ae93c', 'finish_reason': 'tool_calls', 'logprobs': None} id='run--63d62fcc-7a06-42a7-a00d-de176549b165-0' tool_calls=[{'name': 'celsius_to_fahrenheit', 'args': {'c': 32}, 'id': 'call_UYiQdfCNshaIPIdFUkVzeLzF', 'type': 'tool_call'}] usage_metadata={'input_tokens': 113, 'output_tokens': 17, 'total_tokens': 130, 'input_token_details': {'audio': 0, 'cache_read': 0}, 'output_token_details': {'audio': 0, 'reasoning': 0}}\n",
      "-----------------------\n",
      "content='89.6' name='celsius_to_fahrenheit' id='d60390d1-f577-48e4-b205-86daf5a2b39f' tool_call_id='call_UYiQdfCNshaIPIdFUkVzeLzF'\n",
      "-----------------------\n",
      "content='32 degrees Celsius is equal to 89.6 degrees Fahrenheit.' additional_kwargs={'refusal': None} response_metadata={'token_usage': {'completion_tokens': 14, 'prompt_tokens': 144, 'total_tokens': 158, 'completion_tokens_details': {'accepted_prediction_tokens': 0, 'audio_tokens': 0, 'reasoning_tokens': 0, 'rejected_prediction_tokens': 0}, 'prompt_tokens_details': {'audio_tokens': 0, 'cached_tokens': 0}}, 'model_name': 'gpt-4o-mini-2024-07-18', 'system_fingerprint': 'fp_34a54ae93c', 'finish_reason': 'stop', 'logprobs': None} id='run--91e88ec5-d916-423e-b24c-07324dac9536-0' usage_metadata={'input_tokens': 144, 'output_tokens': 14, 'total_tokens': 158, 'input_token_details': {'audio': 0, 'cache_read': 0}, 'output_token_details': {'audio': 0, 'reasoning': 0}}\n"
     ]
    }
   ],
   "source": [
    "for res in response1[\"messages\"]:\n",
    "    print(\"-----------------------\")\n",
    "    print(res)"
   ]
  },
  {
   "cell_type": "code",
   "execution_count": 17,
   "id": "b32d7fda-dac1-453d-a539-78204ed1dfb2",
   "metadata": {},
   "outputs": [],
   "source": [
    "response2 = agent.invoke({\"messages\":\"Summarize the article on Ferrari stored in my vector database. Make sure to summarize the aticle in 3-4 sentences\"})"
   ]
  },
  {
   "cell_type": "code",
   "execution_count": 19,
   "id": "d01c4d39-7f1b-4973-8d3b-e8df81e6c0e6",
   "metadata": {},
   "outputs": [
    {
     "name": "stdout",
     "output_type": "stream",
     "text": [
      "---------------------------\n",
      "content='Summarize the article on Ferrari stored in my vector database. Make sure to summarize the aticle in 3-4 sentences' additional_kwargs={} response_metadata={} id='46f8df0b-cf1c-4ab2-b6e8-960e22f0aeb3'\n",
      "---------------------------\n",
      "content='' additional_kwargs={'tool_calls': [{'id': 'call_hsxHwQyEqnbhg23KEXdshSp7', 'function': {'arguments': '{\"question\":\"Ferrari\"}', 'name': 'vector_search'}, 'type': 'function'}], 'refusal': None} response_metadata={'token_usage': {'completion_tokens': 15, 'prompt_tokens': 132, 'total_tokens': 147, 'completion_tokens_details': {'accepted_prediction_tokens': 0, 'audio_tokens': 0, 'reasoning_tokens': 0, 'rejected_prediction_tokens': 0}, 'prompt_tokens_details': {'audio_tokens': 0, 'cached_tokens': 0}}, 'model_name': 'gpt-4o-mini-2024-07-18', 'system_fingerprint': 'fp_34a54ae93c', 'finish_reason': 'tool_calls', 'logprobs': None} id='run--58a81fb6-840e-4995-b304-14d835224887-0' tool_calls=[{'name': 'vector_search', 'args': {'question': 'Ferrari'}, 'id': 'call_hsxHwQyEqnbhg23KEXdshSp7', 'type': 'tool_call'}] usage_metadata={'input_tokens': 132, 'output_tokens': 15, 'total_tokens': 147, 'input_token_details': {'audio': 0, 'cache_read': 0}, 'output_token_details': {'audio': 0, 'reasoning': 0}}\n",
      "---------------------------\n",
      "content='[Document(id=\\'eaf2ae22-f21c-48b1-8ba7-e15729fd2aa7\\', metadata={\\'source\\': \\'../data/Ferrari.html\\'}, page_content=\\'Please help by spinning off or relocating any relevant information, and removing excessive detail that may be against Wikipedia\\\\\\'s inclusion policy . ( September 2023 ) ( Learn how and when to remove this message )\\\\n\\\\nThe first vehicle made with the Ferrari name was the 125 S. Only two of this small two-seat sports/racing V12 car were made. In 1949, the 166 Inter was introduced marking the company\\\\\\'s significant move into the grand touring road car market. The first 166 Inter was a four-seat (2+2) berlinetta coupe with body work designed by Carrozzeria Touring Superleggera. Road cars quickly became the bulk of Ferrari sales. The early Ferrari road cars typically featured bodywork designed and customised by independent coachbuilders such as Vignale, Touring, Ghia, Pininfarina, Scaglietti and Bertone. The original Ferrari road cars were typically two-seat front-engined V12s. This platform served Ferrari well through the 1950s and 1960s. In 1967, the V6 powered Dino 206 GT was introduced as the first production rear mid-engined car built by Ferrari. The 206 GT was sold under the lower cost Dino marque, named after Enzo Ferrari\\\\\\'s late son, and sold in greater numbers than any previous Ferrari model. The first rear mid-engine model to be sold under the Ferrari name came in 1973 with the flat 12 powered Berlinetta Boxer.[65] This rear mid-engine layout would go on to be used in many Ferraris continuing into the present day. Current Ferrari road cars typically use V8 or V12 engines, with V8 models making up over half of the marque\\\\\\'s total production. For a time, Ferrari built 2+2 versions of its mid-engined V8 cars. Although they looked quite different from their 2-seat counterparts, both the GT4 and Mondial were closely related to the 308 GTB.[citation needed]\\\\n\\\\nThe company has also produced several front-engined 2+2 cars, culminating in the recent V12 model Lusso and V8 models Roma, Portofino and Lusso T. The California is credited with initiating the current model line of V8 front-engined 2+2 grand touring performance sports cars.[citation needed]\\\\n\\\\nStarting in the early 2010s with the LaFerrari, Ferrari shifted its focus away from using independent coachbuilders, including Pininfarina, to instead relying on in-house design from the Centro Stile Ferrari for the design of all its road cars. The Ferrari F12 was the last Ferrari production model to feature Pininfarina design, although Ferrari has stated that they will continue to collaborate with Pininfarina on special projects.[66]\\\\n\\\\nThe Ferrari SF90 Stradale is the first-ever Ferrari to feature PHEV (Plug-in Hybrid Electric Vehicle) architecture which sees the internal combustion engine integrated with three electric motors, two of which are independent and located on the front axle, with the third at the rear between the engine and the gearbox.[67]\\\\n\\\\nIn February 2025, Ferrari announced that they would be unveiling their first-ever fully electric car in October, \"in a unique and innovative way\", according to CEO Benedetto Vigna.[68]\\\\n\\\\nCurrent models\\\\n\\\\n[edit]\\\\n\\\\nModel Calendar year introduced Vehicle description SF90 Stradale 2019 Mid-engine, plug-in hybrid V8 sports car. Roma 2020 Front mid-engine, V8 grand tourer. 296 2022 Mid-engine, plug-in hybrid V6 sports car. Daytona SP3 2022 Limited production mid-engine V12 sports car, part of the Icona series. Purosangue 2022 Ferrari\\\\\\'s first SUV, front mid-engine, V12 4-door vehicle. 12Cilindri 2024 Front mid-engine, V12 grand tourer. Successor to the 812. F80 2024 Hybrid V6 sports car, successor to the LaFerrari . Customisation\\\\n\\\\n[edit]\\\\n\\\\nIn the 1950s and 1960s, clients often personalized their vehicles as they came straight from the factory.[69] This philosophy added to the mystique of the brand at the time. Every Ferrari that came out of Maranello could be built to an individual customer\\\\\\'s specification. Ferrari formalized this concept with its earlier Carrozzeria Scaglietti programme. The options offered here were more typical such as racing seats, rearview cameras, and other special trim. In late 2011, Ferrari announced a significant update of this philosophy. The Tailor Made programme allows clients to work with designers in Maranello to make decisions at every step of the process. Through this program almost any trim, any exterior colour or any interior material is possible. The program carries on the original tradition and emphasizes the idea of each car being unique.[69]\\\\n\\\\n\"Big 6\" supercars\\\\n\\\\n[edit]\\\\n\\\\nThe 1984 288 GTO is considered by some to be the first in the line of Ferrari flagship \"supercars\". This pedigree is considered to extend through the F40, F50, Enzo, LaFerrari, and the F80. These are sometimes referred to by collectors as the \"Big 6\".[70][71]\\\\n\\\\nConcept cars and specials\\\\n\\\\n[edit]\\\\n\\\\nFerrari has produced a handful of concept cars such as the Modulo, Mythos, and Pinin. Some of these were quite radical and never intended for production, while others showed styling elements that were later incorporated into production models. Most of Ferrari\\\\\\'s concept cars have been collaborations with design studio Pininfarina. The most recent concept car to be produced by Ferrari themselves was the 2010 Millechili. A number of one-off special versions of Ferrari road cars have also been produced, commissioned to coachbuilders by wealthy owners. Examples include the P4/5[72] and the 612 Kappa. Ferrari Special Projects\\\\n\\\\n[edit]\\\\n\\\\nThe Special Projects programme, also called the Portfolio Coachbuilding Programme, was launched in 2008 as a way to revive the tradition of past one-off and limited production coachbuilt Ferrari models, allowing clients to work with Ferrari and top Italian coachbuilders to create bespoke bodied models based on modern Ferrari road cars.[73][74] Engineering and design is done by Ferrari, sometimes in cooperation with external design houses such as Pininfarina or Fioravanti, and the vehicles receive full homologation to be road legal.[74] Since the creation of Ferrari\\\\\\'s in-house styling centre in 2010 though, the focus has shifted away somewhat from outside coachbuilders and more towards creating new in-house designs for clients.[75][76]\\\\n\\\\nThe first car to be completed under this programme was the 2008 SP1, commissioned by a Japanese business executive. The second was the P540 Superfast Aperta, commissioned by an American collector.[74] The following is a list of Special Projects cars that have been made public:\\\\n\\\\nName Picture Year Based on Commissioned by Notes SP1 2008 F430 [ 77 ] Junichiro Hiramatsu [ 77 ] Designed by Leonardo Fioravanti , inspired by the 1998 F100 concept by Fioravanti. [ 77 ] P540 Superfast Aperta 2009 599 GTB [ 78 ] Edward Walson [ 78 ] Inspired by a similarly gold-painted and open-topped one-off built by Carrozzeria Fantuzzi on a Ferrari 330 LMB chassis. [ 74 ] [ 78 ] Designed by Pininfarina . Superamerica 45 2011 599 GTB [ 79 ] Peter Kalikow [ 79 ] Features a rotating targa top ; [ 79 ] designed by Ferrari Styling Centre. SP12 EC 2012 458 Italia [ 80 ] Eric Clapton [ 80 ] Designed by Ferrari Styling Centre and Pininfarina , in homage to the 512 BB . [ 80 ] SP30 2013 [ 81 ] 599 GTO [ 81 ] Cheerag Arya [ 81 ] Designed by Ferrari Styling Centre. SP FFX 2014 FF [ 82 ] Shin Okamoto [ 82 ] Designed by Pininfarina . [ 82 ] F12 TRS 2014 F12berlinetta [ 83 ] Sam Li [ 84 ] Barchetta body, inspired by the Ferrari 250 Testa Rossa . Designed by Ferrari Styling Centre. [ 83 ] SP America 2014 F12berlinetta Danny Wegman [ 85 ] Designed by Pininfarina . 458 MM Speciale 2016 458 Speciale [ 86 ] — Designed by Ferrari Styling Centre. [ 86 ] SP275 RW Competizione 2016 F12tdf Rick Workman [ 87 ] Inspired by the 1964 275 GTB/C Speciale. Designed by Pininfarina in collaboration with Ferrari Styling Centre. [ 88 ] GScinquanta 2017 F12tdf N/A [ 84 ] J50 2017 488 Spider N/A Designed by Ferrari Design Center team in Maranello directed by Flavio Manzoni. [ 89 ] SP38 2018 488 GTB — Inspired by the F40 and 308 . [ 90 ] SP3JC 2018 F12tdf John Collins [ 91 ] Designed by the Ferrari Styling Centre. Two matching cars ordered, one in LHD , the other in RHD with different liveries. [ 92 ] Took 3.5 years to complete.\\'), Document(id=\\'5d1b4099-0c4b-4519-8032-f2ca7a9e5cf4\\', metadata={\\'source\\': \\'../data/Ferrari.html\\'}, page_content=\\'^ Aquistapace, Jordan (1 August 2023). \"Ferrari\\\\\\'s \\\\\\'Big Five\\\\\\' History: 288 GTO, F40, F50, Enzo, LaFerrari For Sale\". duPont REGISTRY News.\\'), Document(id=\\'e45ede11-7ec7-4be0-8c36-d0328dab8ed3\\', metadata={\\'source\\': \\'../data/Ferrari.html\\'}, page_content=\\'Retrieved 29 October 2020. General references\\\\n\\\\n[edit]\\\\n\\\\nGustafson, Eric, \"Cavallino Rampante\", Sports Car International (Oct/Nov 2000): 94. Adler, Dennis, Ferrari: The Road from Maranello. Random House, 2006. ISBN 978-1-4000-6463-2. External links\\\\n\\\\n[edit]\\\\n\\\\nFerrari at Wikipedia\\\\\\'s sister projects\\\\n\\\\n\\\\n\\\\nMedia from Commons\\\\n\\\\n\\\\n\\\\nNews from Wikinews\\\\n\\\\n\\\\n\\\\nQuotations from Wikiquote\\\\n\\\\n\\\\n\\\\nTexts from Wikisource\\\\n\\\\n\\\\n\\\\nTextbooks from Wikibooks\\\\n\\\\n\\\\n\\\\nResources from Wikiversity\\\\n\\\\nOfficial website\\\\n\\\\nEdit this at Wikidata\\\\n\\\\nFerrari Special Projects listing on Coachbuild.com\\\\n\\\\nBusiness data for Ferrari:\\\\n\\\\nGoogle\\\\n\\\\nReuters\\\\n\\\\nSEC filings\\\\n\\\\nYahoo! v t e Ferrari History Cars Current Roma SF90 Stradale 296 Daytona SP3 Purosangue 12Cilindri Past Auto Avio Costruzioni 815 125 C 125 S 159 S 166 S/SC 166 MM 166 Inter 195 S 195 Inter 212 Export 212 Inter America 225 S 375 MM 250 250 S 250 MM 250 Monza 250 GT Coupé 250 GT California Spyder 250 GT Lusso 250 GTO P 275 330 365 365 GT 2+2 Dino 206 GT/246 GT/246 GTS Daytona 365 GTC/4 GT4 Berlinetta Boxer 308 GTB/GTS Mondial 288 GTO Testarossa 328 F40 348 333 SP F355 F50 360 400/412 456 550 Enzo Ferrari 575M Maranello F430 612 Scaglietti 599 California 458 FF F12berlinetta LaFerrari California T 488 GTC4Lusso Portofino Portofino M 812 Monza SP1 Monza SP2 F8 Future F80 Concepts 365 P Berlinetta Sigma 512 S Berlinetta 408 4RM Modulo Mythos Pinin FZ93 Rossa GG50 Millechili Vision Gran Turismo Ascari Pininfarina Sergio Related Fiat Dino Lancia LC2 Lancia Stratos Maserati MC12 Engines Current F140 F154 F160 F163 Past Colombo Lampredi Jano Dino Flat-12 F116/F133 F136 Personnel Current John Elkann (president) Benedetto Vigna (chief executive officer) Piero Ferrari (vice chairman) Flavio Manzoni Former Enzo Ferrari (founder) Mario Almondo Dany Bahar Vittorio Bellentani Marcello Gandini Giotto Bizzarrini Aldo Brovarone Giuseppe Busso Louis C. Camilleri Jason Castriota Luigi Chinetti Donato Coco Giampaolo Dallara Marco Fainello Battista Farina Amedeo Felisa Alfredo \"Dino\" Ferrari Leonardo Fioravanti Pier Ugo Gobbato Aurelio Lampredi Sergio Marchionne Paolo Martin Alberto Massimino Nicola Materazzi Marco Mattiacci Tom Meade Giovanni Michelotti Luca Cordero di Montezemolo Ken Okuyama Gerald Roush Frank Stephenson Locations Museums Museo Ferrari Museo Casa Enzo Ferrari Amusement parks Ferrari World Abu Dhabi Ferrari Land Infrastructure Ferrari factory Fiorano Circuit Mugello Circuit Media Films La Passione (1996) The Snake and the Stallion (2002) Ferrari (2003) Ford v Ferrari (2019) soundtrack Ferrari (2023) soundtrack Television Magnum, P.I. (1980) Miami Vice (1984) Magnum P. I. (2018) Video games Out Run (1986) F355 Challenge (1999) Ferrari Challenge: Trofeo Pirelli (2008) Ferrari GT: Evolution (2008) Ferrari Virtual Race (2009) Ferrari Virtual Academy (2010) Ferrari: The Race Experience (2010) Ferrari GT 3: World Track (2012) Test Drive: Ferrari Racing Legends (2012) Motorsport Racing teams AF Corse North American Racing Team Risi Competizione Scuderia Ferrari Chassis builders Carrozzeria Scaglietti Dallara Michelotto Automobili [ it ] Championships Ferrari Challenge Florida Winter Series Related Fandom Cavallino Ferrari Club of America Palm Beach Cavallino Classic Tifosi Others Arno XI The Kiss of Death Manettino dial Pininfarina Prancing Horse XX Programmes Category Commons\\\\n\\\\nLinks to related articles v t e Exor N.V. Investments Financial service Banca Leonardo S.p.A. Oil and gas Welltec Tourism, entertainment and media Economist Group GEDI Gruppo Editoriale Automotive and commercial vehicles Ferrari Iveco Stellantis Agricultural and construction CNH Industrial Sport Juventus F.C. Mobility service Via Transportation Fashion Christian Louboutin Health technology Philips v t e EURO STOXX 50 companies of the Euro Area Last updated: 18 September 2023 Adidas Adyen Ahold Delhaize Air Liquide Airbus Allianz Anheuser-Busch InBev ASML Axa BBVA BASF Bayer BMW BNP Paribas Danone Deutsche Börse Deutsche Telekom DHL Group Enel Eni EssilorLuxottica Ferrari Flutter Entertainment Hermès Iberdrola Inditex Infineon Technologies ING Group Intesa Sanpaolo Kering L\\\\\\'Oréal LVMH Mercedes-Benz Munich Re Nokia Nordea Pernod Ricard Prosus Safran Saint-Gobain Sanofi Santander SAP Schneider Electric Siemens Stellantis TotalEnergies Vinci UniCredit Volkswagen v t e FTSE MIB companies of Italy A2A Amplifon Atlantia Azimut Banca Generali Banca Mediolanum Banco BPM BPER Banca Buzzi Unicem Campari CNH Industrial DiaSorin Enel Eni Exor Ferrari FinecoBank Generali Hera Interpump Intesa Sanpaolo INWIT Italgas Leonardo Mediobanca Moncler Nexi Pirelli Poste Italiane Prysmian Recordati Saipem Snam Stellantis STMicroelectronics Telecom Italia Tenaris Terna UniCredit Unipol v t e Ferrari road car timeline, 1947–1969 — next » Type 1940s 1950s 1960s 7 8 9 0 1 2 3 4 5 6 7 8 9 0 1 2 3 4 5 6 7 8 9 Sports 340 MM 375 Plus 410 S 275 S 340 Mexico 375 MM 290 S 125 S 166\\\\xa0S/166\\\\xa0MM 195 S 212 Export 225 S 250 MM 250 Monza 315 S 250 Testa Rossa 250 LM 159 S 250 S 290 MM 335 S 250\\\\u2009 GTO Berlinetta 250\\\\u2009GT \"Tour de France\" 250\\\\u2009GT \"SWB\" 250\\\\u2009GT Lusso 275\\\\u2009GTB 275\\\\u2009GTB/4 365\\\\u2009GTB/4 Coupé 166 Inter 195 Inter 212 Inter 250 Europa 250\\\\u2009Europa GT 250\\\\u2009GT Boano 250\\\\u2009GT Ellena 250\\\\u2009GT Coupé Pinin Farina 330\\\\u2009GTC 365\\\\u2009GTC 2+2 250\\\\u2009GT/E 330\\\\u2009America 330\\\\u2009GT 2+2 365\\\\u2009GT 2+2 Spider 250\\\\u2009GT Cabriolet 275\\\\u2009GTS 330\\\\u2009GTS 365\\\\u2009GTS 250\\\\u2009GT California Spyder America 340 America 342 America 375 America 410 Superamerica 400 Superamerica 500 Superfast 365 California v t e « previous — Ferrari road car timeline, 1970s–1990s — next » Type 1970s 1980s 1990s 0 1 2 3 4 5 6 7 8 9 0 1 2 3 4 5 6 7 8 9 0 1 2 3 4 5 6 7 8 9 8 cylinder Mid-engine berlinetta 308 308 i 308 QV 328 348 360 208 208 Turbo GTB/GTS Turbo F355 Mid-engine 2+2 308 GT4 Mondial\\\\xa08 Mondial\\\\xa0QV Mondial 3.2 Mondial t 208 GT4 12 cylinder Boxer berlinetta 365 GT4 BB 512 BB 512 BBi Testarossa (F110) 512TR F512 M Grand tourer 365\\\\u2009GTB/4 \"Daytona\" 550 Maranello 2+2 grand tourer 365 2+2 365 GTC/4 365 GT4 2+2 400 400 i 412 456 456M Flagship sports car 288 GTO F40 F50 Legend Sold under the Dino marque until 1976; see also Dino car timeline v t e « previous — Ferrari road car timeline, 2000–present Type 2000s 2010s 2020s 0 1 2 3 4 5 6 7 8 9 0 1 2 3 4 5 6 7 8 9 0 1 2 3 4 5 V6 Rear mid-engine sports car 296 GTB / 296 GTS V8 Rear mid-engine sports car 360 Modena / 360 Spider 458 Italia / 458 Spider F8 Tributo / F8 Spider Challenge Stradale 430 Scuderia / Scuderia Spider 16M 458 Speciale / 458 Speciale A 488 Pista / 488 Pista Spider F430 / F430 Spider 488 GTB / 488 Spider SF90 Stradale / SF90 Spider Convertible California / California 30 California T Portofino / Portofino M Roma Spider 2+2 GT Roma GTC4Lusso T V12 2+2 GT 456M 612 Scaglietti FF GTC4Lusso Grand tourer 550 Maranello 575M Maranello 599 GTB Fiorano F12berlinetta 812 Superfast / 812 GTS 12Cilindri / 12Cilindri Spider 550 Barchetta Pininfarina Superamerica 599 GTO / SA Aperta F12tdf / F60 America 812 Competizione Flagship sports car Enzo LaFerrari LaFerrari Aperta F80 XX Programmes FXX FXX Evo 599XX 599XX Evo FXX K FXX K Evo SF90 XX Stradale / Spider Ferrari Icona Monza SP1 / SP2 Daytona SP3 SUV Purosangue Legend hybrid v t e Automotive industry in Italy Automotive industry Transport in Italy Economy of Italy Active Passenger cars and LCVs Alkè Automobili Estrema ATS Automobili Pininfarina De Tomaso DR Ducati Motor Holding Ferrari Industria Italiana Autobus Martin Mazzanti Automobili Menarinibus Fornasari Lamborghini OTO Melara Pagani Piaggio Puritalia SILK Stellantis Abarth Giannini Automobili Alfa Romeo Fiat Professional Lancia Maserati Sevel Commercial vehicles Iveco Astra Iveco Bus SCV Quadricycles Casalini Giotti Victoria Italcar Racing cars Dallara GISA Lucchini Engineering M.A.T. Osella Picchio Racing Cars Tatuus Wolf Racing Cars Design, engineering, and coachbuilding Ares Design B Engineering Cecomp Carrozzeria Boneschi Carrozzeria Castagna Carrozzeria Ghia Carrozzeria Touring Superleggera Ermini Fioravanti Giannini Automobili Italdesign Giugiaro Morelli Pininfarina Stola Studiotorino Zagato Defunct Passenger cars and LCVs APIS ATS Bianchi Bizzarrini BredaMenarinibus Ceirano Chiribiri Cisitalia Cizeta Diatto Fiat S.p.A. Autobianchi Innocenti Isotta Fraschini Itala Qvale Iso O.S.C.A. S.C.A.T.\\'), Document(id=\\'b1cf6a10-d500-4cff-9a97-f46bd8aeae5a\\', metadata={\\'source\\': \\'../data/Ferrari.html\\'}, page_content=\\'Retrieved 6 April 2018. ^ \"Ferrari reveals its latest bespoke one-off: the SP 275 rw competizione – Ferrari.com\". Ferrari GT – en-US. Archived from the original on 21 March 2018. Retrieved 6 April 2018. ^ \"Ferrari J50\". iF World Design Guide.\\'), Document(id=\\'b04f5532-1d8f-4e31-8af7-a0c924a662ae\\', metadata={\\'source\\': \\'../data/Ferrari.html\\'}, page_content=\\'Retrieved 12 November 2021. ^ \"FERRARI SP48 UNICA: A NEW ONE-OFF FROM MARANELLO\". www.ferrari.com. Retrieved 17 July 2023. ^ \"Ferrari SP51: The 812 GTS-inspired roadster is Maranello\\\\\\'s latest One-Off\". www.ferrari.com. Retrieved 12 February 2024. ^ \"FERRARI KC23: MARANELLO\\\\\\'S NEW ONE-OFF BASED ON THE 488 GT3 EVO 2020\". www.ferrari.com. Archived from the original on 17 July 2023. Retrieved 17 July 2023. ^ \"Ferrari SP-8: F8 Spider-derived Roadster is the latest One-off from Maranello\". www.ferrari.com. Archived from the original on 30 November 2023. Retrieved 9 February 2024. ^ \"The Ferrari HY-KERS Bows at Geneva\". Automoblog.\\'), Document(id=\\'e48419fa-e428-451a-aee6-c950230a9b20\\', metadata={\\'source\\': \\'../data/Ferrari.html\\'}, page_content=\\'ISBN 9782880011291. ^ a b Fearnley, Paul (June 2015). \"The race Ferrari doesn\\\\\\'t need\". Motor Sport Magazine. Archived from the original on 15 May 2023. Retrieved 11 May 2023. ^ \"Legendary Finish: Ferrari History\". Official Ferrari website. 11 June 2019.\\'), Document(id=\\'75f6b757-4a6a-40fc-a87f-6b74b6ee4298\\', metadata={\\'source\\': \\'../data/Ferrari.html\\'}, page_content=\\'Ferrari\\\\n\\\\nAfrikaans\\\\n\\\\nالعربية\\\\n\\\\nAragonés\\\\n\\\\nԱրեւմտահայերէն\\\\n\\\\nAsturianu\\\\n\\\\nتۆرکجه\\\\n\\\\nবাংলা\\\\n\\\\nБеларуская\\\\n\\\\nБългарски\\\\n\\\\nBoarisch\\\\n\\\\nBosanski\\\\n\\\\nBrezhoneg\\\\n\\\\nCatalà\\\\n\\\\nČeština\\\\n\\\\nDansk\\\\n\\\\nDeutsch\\\\n\\\\nEesti\\\\n\\\\nΕλληνικά\\\\n\\\\nEspañol\\\\n\\\\nEsperanto\\\\n\\\\nEuskara\\\\n\\\\nفارسی\\\\n\\\\nFrançais\\\\n\\\\nGaeilge\\\\n\\\\nGàidhlig\\\\n\\\\nGalego\\\\n\\\\n한국어\\\\n\\\\nՀայերեն\\\\n\\\\nहिन्दी\\\\n\\\\nHrvatski\\\\n\\\\nBahasa Indonesia\\\\n\\\\nItaliano\\\\n\\\\nעברית\\\\n\\\\nქართული\\\\n\\\\nҚазақша\\\\n\\\\nKiswahili\\\\n\\\\nKreyòl ayisyen\\\\n\\\\nLatina\\\\n\\\\nLatviešu\\\\n\\\\nLietuvių\\\\n\\\\nLingála\\\\n\\\\nLombard\\\\n\\\\nMagyar\\\\n\\\\nМакедонски\\\\n\\\\nMalagasy\\\\n\\\\nമലയാളം\\\\n\\\\nمصرى\\\\n\\\\nBahasa Melayu\\\\n\\\\nMinangkabau\\\\n\\\\nМонгол\\\\n\\\\nမြန်မာဘာသာ\\\\n\\\\nNederlands\\\\n\\\\n日本語\\\\n\\\\nNorsk bokmål\\\\n\\\\nOʻzbekcha / ўзбекча\\\\n\\\\nپنجابی\\\\n\\\\nPapiamentu\\\\n\\\\nپښتو\\\\n\\\\nPiemontèis\\\\n\\\\nPolski\\\\n\\\\nPortuguês\\\\n\\\\nQaraqalpaqsha\\\\n\\\\nRomână\\\\n\\\\nРусский\\\\n\\\\nScots\\\\n\\\\nShqip\\\\n\\\\nSicilianu\\\\n\\\\nSimple English\\\\n\\\\nSlovenčina\\\\n\\\\nSlovenščina\\\\n\\\\nکوردی\\\\n\\\\nСрпски / srpski\\\\n\\\\nSrpskohrvatski / српскохрватски\\\\n\\\\nSuomi\\\\n\\\\nSvenska\\\\n\\\\nதமிழ்\\\\n\\\\nไทย\\\\n\\\\nТоҷикӣ\\\\n\\\\nTürkçe\\\\n\\\\nУкраїнська\\\\n\\\\nاردو\\\\n\\\\nVèneto\\\\n\\\\nTiếng Việt\\\\n\\\\nWinaray\\\\n\\\\n吴语\\\\n\\\\n粵語\\\\n\\\\nZazaki\\\\n\\\\n中文\\\\n\\\\nEdit links\\\\n\\\\nCoordinates: 44°31′57″N 10°51′52″E\\\\ufeff / \\\\ufeff44.53250°N 10.86444°E\\\\ufeff / 44.53250; 10.86444\\\\n\\\\nPage protected with pending changes\\\\n\\\\nFrom Wikipedia, the free encyclopedia\\\\n\\\\nPage version status\\\\n\\\\nThis is an accepted version of this page\\\\n\\\\nThis is the latest accepted revision, reviewed on 19 April 2025. Italian luxury sports car manufacturer\\\\n\\\\nThis article is about the automobile manufacturer. For other uses, see Ferrari (disambiguation). \"Ferraris\" redirects here. For the surname, see Ferraris (surname). \"RACE\" redirects here. For other uses, see Race. Headquarters in Maranello , Italy Company type Public ( S.p.A. ) Traded as BIT : RACE NYSE : RACE FTSE MIB component Euro Stoxx 50 component ISIN NL0011585146 Industry Automotive Founded 13\\\\xa0September 1939 ; 85 years ago ( 1939-09-13 ) in Modena , Italy (as Auto Avio Costruzioni) [ 1 ] Founder Enzo Ferrari Headquarters Maranello , Emilia-Romagna , Italy Modena, Emilia-Romagna, Italy ( seat ) [ 2 ] 44°31′57″N 10°51′52″E \\\\ufeff / \\\\ufeff 44.53250°N 10.86444°E \\\\ufeff / 44.53250; 10.86444 Area served Worldwide Key people John Elkann (Executive Chairman) Piero Ferrari (Vice Chairman) Benedetto Vigna (CEO) Products Sports cars , luxury cars Production output 13,752 units shipped (2024) [ 3 ] Revenue € 6.677 billion (2024) [ 3 ] Operating income €1.888 billion (2024) [ 3 ] Net income €1.526 billion (2024) [ 3 ] Total assets €9.497 billion (2024) [ 3 ] Total equity €3.543 billion (2024) [ 3 ] Owners Exor (24.65% equity; 36.48% voting rights) Piero Ferrari (10.48% equity; 15.51% voting rights) Public (58.8% equity; 48.01% voting rights) [ 4 ] Number of employees 5,435 (2024) [ 3 ] Divisions Scuderia Ferrari Website www .ferrari .com Footnotes\\\\xa0/ references [ 3 ] [ 5 ] [ 6 ]\\\\n\\\\nFerrari S.p.A. (/fəˈrɑːri/; Italian: [ferˈraːri]) is an Italian luxury sports car manufacturer based in Maranello. Founded in 1939 by Enzo Ferrari (1898–1988), the company built its first car in 1940, adopted its current name in 1945, and began to produce its current line of road cars in 1947. Ferrari became a public company in 1960, and from 1963 to 2014 it was a subsidiary of Fiat S.p.A. It was spun off from Fiat\\\\\\'s successor entity, Fiat Chrysler Automobiles, in 2016. The company currently offers a large model range which includes several supercars, grand tourers, and one SUV. Many early Ferraris, dating to the 1950s and 1960s, count among the most expensive cars ever sold at auction. Throughout its history, the company has been noted for its continued participation in racing, especially in Formula One, where its team, Scuderia Ferrari, is the series\\\\\\' single oldest and most successful. Scuderia Ferrari has raced since 1929, first in Grand Prix events and later in Formula One, where it holds many records. Historically, Ferrari was also highly active in sports car racing, where its cars took many wins in races such as the Mille Miglia, Targa Florio and 24 Hours of Le Mans, as well as several overall victories in the World Sportscar Championship. Scuderia Ferrari fans, commonly called tifosi, are known for their passion and loyalty to the team. Ferrari is one of the world\\\\\\'s strongest brands, and it maintains a brand image built around racing heritage, luxury, and exclusivity. As of May 2023, Ferrari is also one of the largest car manufacturers by market capitalisation, with a value of approximately US$85.5 billion.[7]\\\\n\\\\nHistory\\\\n\\\\n[edit]\\\\n\\\\nMain article: History of Ferrari\\\\n\\\\nEarly history\\\\n\\\\n[edit]\\\\n\\\\nEnzo Ferrari, formerly a salesman and racing driver for Alfa Romeo, founded Scuderia Ferrari, a racing team, in 1929. Originally intended to service gentleman drivers and other amateur racers, Alfa Romeo\\\\\\'s withdrawal from racing in 1933, combined with Enzo\\\\\\'s connections within the company, turned Scuderia Ferrari into its unofficial representative on the track.[8] Alfa Romeo supplied racing cars to Ferrari, who eventually amassed some of the best drivers of the 1930s and won many races before the team\\\\\\'s liquidation in 1937.[8][9]: 43\\\\n\\\\nLate in 1937, Scuderia Ferrari was liquidated and absorbed into Alfa Romeo,[8] but Enzo\\\\\\'s disagreements with upper management caused him to leave in 1939. He used his settlement to found his own company, where he intended to produce his own cars. He called the company \"Auto Avio Costruzioni\", and headquartered it in the facilities of the old Scuderia Ferrari;[1] due to a noncompete agreement with Alfa Romeo, the company could not use the Ferrari name for another four years. The company produced a single car, the Auto Avio Costruzioni 815, which participated in only one race before the outbreak of World War II. During the war, Enzo\\\\\\'s company produced aircraft engines and machine tools for the Italian military; the contracts for these goods were lucrative, and provided the new company with a great deal of capital. In 1943, under threat of Allied bombing raids, the company\\\\\\'s factory was moved to Maranello. Though the new facility was nonetheless bombed twice, Ferrari remains in Maranello to this day.[1][9]: 45–47 [10]\\\\n\\\\nUnder Enzo Ferrari\\\\n\\\\n[edit]\\\\n\\\\nIn 1945, Ferrari adopted its current name. Work started promptly on a new V12 engine that would power the 125 S, which was the marque\\\\\\'s first car, and many subsequent Ferraris. The company saw success in motorsport almost as soon as it began racing: the 125 S won many races in 1947,[13][14] and several early victories, including the 1949 24 Hours of Le Mans and 1951 Carrera Panamericana, helped build Ferrari\\\\\\'s reputation as a high-quality automaker.[15][16] Ferrari won several more races in the coming years,[17][18] and early in the 1950s its road cars were already a favourite of the international elite.[19] Ferrari produced many families of interrelated cars, including the America, Monza, and 250 series, and the company\\\\\\'s first series-produced car was the 250 GT Coupé, beginning in 1958.[20]\\\\n\\\\nIn 1960, Ferrari was reorganized as a public company. It soon began searching for a business partner to handle its manufacturing operations: it first approached Ford in 1963, though negotiations fell through; later talks with Fiat, who bought 50% of Ferrari\\\\\\'s shares in 1969, were more successful.[21][22] In the second half of the decade, Ferrari also produced two cars that upended its more traditional models: the 1967 Dino 206 GT, which was its first mass-produced mid-engined road car,[a] and the 1968 365 GTB/4, which possessed streamlined styling that modernised Ferrari\\\\\\'s design language.[25][26] The Dino in particular was a decisive movement away from the company\\\\\\'s conservative engineering approach, where every road-going Ferrari featured a V12 engine placed in the front of the car, and it presaged Ferrari\\\\\\'s full embrace of mid-engine architecture, as well as V6 and V8 engines, in the 1970s and 1980s.[25]\\\\n\\\\nContemporary\\\\n\\\\n[edit]\\\\n\\\\nEnzo Ferrari died in 1988, an event that saw Fiat expand its stake to 90%.[27] The last car that he personally approved—the F40—expanded on the flagship supercar approach first tried by the 288 GTO four years earlier.[28] Enzo was succeeded in 1991 by Luca Cordero di Montezemolo, under whose 23-year-long chairmanship the company greatly expanded. Between 1991 and 2014, he increased the profitability of Ferrari\\\\\\'s road cars nearly tenfold, both by increasing the range of cars offered and through limiting the total number produced. Montezemolo\\\\\\'s chairmanship also saw an expansion in licensing deals, a drastic improvement in Ferrari\\\\\\'s Formula One performance (not least through the hiring of Michael Schumacher and Jean Todt), and the production of three more flagship cars: the F50, the Enzo, and the LaFerrari. In addition to his leadership of Ferrari, Montezemolo was also the chairman of Fiat proper between 2004 and 2010.[29]\\\\n\\\\nAfter Montezemolo resigned, he was replaced in quick succession by many new chairmen and CEOs. He was succeeded first by Sergio Marchionne,[29] who would oversee Ferrari\\\\\\'s initial public offering and subsequent spin-off from Fiat Chrysler Automobiles,[30][31] and then by Louis Camilleri as CEO and John Elkann as chairman.[32] Beginning in 2021, Camilleri was replaced as CEO by Benedetto Vigna, who has announced plans to develop Ferrari\\\\\\'s first fully electric model.[33] During this period, Ferrari has expanded its production, owing to a global increase in wealth, while becoming more selective with its licensing deals.[34][35]\\\\n\\\\nMotorsport\\\\n\\\\n[edit]\\\\n\\\\nMain article: Scuderia Ferrari\\\\n\\\\nFor a complete list of Ferrari racing cars, see List of Ferrari competition cars. Since the company\\\\\\'s beginnings, Ferrari has been involved in motorsport. Through its works team, Scuderia Ferrari, it has competed in a range of categories including Formula One and sports car racing, though the company has also worked in partnership with other teams. Grand Prix and Formula One racing\\\\n\\\\n[edit]\\\\n\\\\nFurther information: Grand Prix racing history of Scuderia Ferrari and Ferrari Grand Prix results\\\\n\\\\nScuderia Ferrari has been continuously active since the very beginning of Formula One, and is one of its most illustrious teams: since 1952 it has fielded fifteen champion drivers, won sixteen Constructors\\\\\\' Championships, and accumulated more race victories, 1–2 finishes, podiums, pole positions, fastest laps and points than any other team in F1 history.[17][36]\\\\n\\\\nThe earliest Ferrari entity, Scuderia Ferrari, was created in 1929—ten years before the founding of Ferrari proper—as a Grand Prix racing team. It was affiliated with automaker Alfa Romeo, for whom Enzo had worked in the 1920s. Alfa Romeo supplied racing cars to Ferrari, which the team then tuned and adjusted to their desired specifications. Scuderia Ferrari was highly successful in the 1930s: between 1929 and 1937 the team fielded such top drivers as Antonio Ascari, Giuseppe Campari, and Tazio Nuvolari, and won 144 out of its 225 races.[9][8]\\\\n\\\\nFerrari returned to Grand Prix racing in 1947, which was at that point metamorphosing into modern-day Formula One. The team\\\\\\'s first homebuilt Grand Prix car, the 125 F1, was first raced at the 1948 Italian Grand Prix, where its encouraging performance convinced Enzo to continue the company\\\\\\'s costly Grand Prix racing programme.[37]: 9 Ferrari\\\\\\'s first victory in an F1 series was at the 1951 British Grand Prix, heralding its strong performance during the 1950s and early 1960s: between 1952 and 1964, the team took home six World Drivers\\\\\\' Championships and one Constructors\\\\\\' Championship. Notable Ferrari drivers from this era include Alberto Ascari, Juan Manuel Fangio, Phil Hill, and John Surtees.[17]\\\\n\\\\nFerrari\\\\\\'s initial fortunes ran dry after 1964, and its began to receive its titles in isolated sprees.[36] Ferrari first started to slip in the late 1960s, when it was outclassed by teams using the inexpensive, well-engineered Cosworth DFV engine.[38][39] The team\\\\\\'s performance improved markedly in the mid-1970s thanks to Niki Lauda, whose skill behind the wheel granted Ferrari a drivers\\\\\\' title in 1975 and 1977; similar success was accomplished in following years by the likes of Jody Scheckter and Gilles Villeneuve.[36][40] The team also won the Constructors\\\\\\' Championship in 1982 and 1983.[17][41]\\\\n\\\\nFollowing another drought in the 1980s and 1990s, Ferrari saw a long winning streak in the 2000s, largely through the work of Michael Schumacher. After signing onto the team in 1996, Schumacher gave Ferrari five consecutive drivers\\\\\\' titles between 2000 and 2004; this was accompanied by six consecutive constructors\\\\\\' titles, beginning in 1999. Ferrari was especially dominant in the 2004 season, where it lost only three races.[17] After Schumacher\\\\\\'s departure, Ferrari won one more drivers\\\\\\' title—given in 2007 to Kimi Räikkönen—and two constructors\\\\\\' titles in 2007 and 2008. These are the team\\\\\\'s most recent titles to date; as of late, Ferrari has struggled to outdo recently ascendant teams such as Red Bull and Mercedes-Benz.[17][36]\\\\n\\\\nFerrari Driver Academy\\\\n\\\\n[edit]\\\\n\\\\nMain article: Ferrari Driver Academy\\\\n\\\\nFerrari\\\\\\'s junior driver programme is the Ferrari Driver Academy. Begun in 2009, the initiative follows the team\\\\\\'s successful grooming of Felipe Massa between 2003 and 2006. Drivers who are accepted into the Academy learn the rules and history of formula racing as they compete, with Ferrari\\\\\\'s support, in feeder classes such as Formula Three and Formula 4.[42][43][44] As of 2019, 5 out of 18 programme inductees had graduated and become F1 drivers: one of these drivers, Charles Leclerc, came to race for Scuderia Ferrari, while the other four signed to other teams. Non-graduate drivers have participated in racing development, filled consultant roles, or left the Academy to continue racing in lower-tier formulae.[44]\\\\n\\\\nSports car racing\\\\n\\\\n[edit]\\\\n\\\\nAside from an abortive effort in 1940, Ferrari began racing sports cars in 1947, when the 125 S won six out of the ten races it participated in.[13] Ferrari continued to see similar luck in the years to follow: by 1957, just ten years after beginning to compete, Ferrari had won three World Sportscar Championships, seven victories in the Mille Miglia, and two victories at the 24 Hours of Le Mans, among many other races.[18] These races were ideal environments for the development and promotion of Ferrari\\\\\\'s earlier road cars, which were broadly similar to their racing counterparts.[45]\\\\n\\\\nThis luck continued into the first half of the 1960s, when Ferrari won the WSC\\\\\\'s 2000GT class three consecutive times and finished first at Le Mans for six consecutive years.[46][47] Its winning streak at Le Mans was broken by Ford in 1966,[47] and though Ferrari would win two more WSC titles—one in 1967 and another in 1972[48][49]—poor revenue allocation, combined with languishing performance in Formula One, led the company to cease competing in sports car events in 1973.[22]: 621 From that point onward, Ferrari would help prepare sports racing cars for privateer teams, but would not race them itself.[50]\\\\n\\\\nIn 2023, Ferrari reentered prototype sports car racing. For the 2023 FIA World Endurance Championship, Ferrari, in partnership with AF Corse, fielded two 499P sports prototypes. To commemorate the company\\\\\\'s return to the discipline, one of the cars was numbered \"50\", referencing the fifty years that had elapsed since a works Ferrari competed in an endurance race.[51][52] The 499P finished first at the 2023 24 Hours of Le Mans, ending Toyota Gazoo Racing\\\\\\'s five-year winning streak there and becoming the first Ferrari in 58 years to win the race.[53] Ferrari repeated this feat at the 2024 24 Hours of Le Mans, marking its first consecutive victory at the race since 1965.[54][55]\\\\n\\\\nOther disciplines\\\\n\\\\n[edit]\\\\n\\\\nFrom 1932 to 1935 Scuderia Ferrari operated a motorcycle racing division, which was conceived as a way to scout and train future Grand Prix drivers. Instead of Italian motorcycles, the team used British ones manufactured by Norton and Rudge. Though Ferrari was successful on two wheels, winning three national titles and 44 overall victories, it was eventually pushed out of the discipline both by the obsolescence of pushrod motorcycle engines and broader economic troubles stemming from the Great Depression.[56][57]\\\\n\\\\nFerrari formerly participated in a variety of non-F1 open-wheel series. As early as 1948, Ferrari had developed cars for Formula Two and Formula Libre events,[58] and the company\\\\\\'s F2 programme led directly to the creation of the Dino engine, which came to power various racing and road Ferraris.[25] The final non-F1 formula in which Ferrari competed was the Tasman Series, wherein Chris Amon won the 1969 championship in a Dino 246 Tasmania.[59]\\\\n\\\\nAt least two water speed record boats have utilized Ferrari powertrains, both of them 800kg-class hydroplanes from the early 1950s. Neither boat was built by or affiliated with Ferrari, though one of them, Arno XI, had its engine order approved directly by Enzo Ferrari. Arno XI still holds the top speed record for an 800kg hydroplane.[60][61]\\\\n\\\\nSince 2019, Scuderia Ferrari has participated in sim racing.[62]\\\\n\\\\nRace cars for other teams\\\\n\\\\n[edit]\\\\n\\\\nThis section needs additional citations for verification . Please help improve this article by adding citations to reliable sources in this section. Unsourced material may be challenged and removed. Find sources: \"Ferrari\" – news · newspapers · books · scholar · JSTOR ( October 2023 ) ( Learn how and when to remove this message )\\\\n\\\\nThroughout its history, Ferrari has supplied racing cars to other entrants, aside from its own works Scuderia Ferrari team. In the 1950s and 1960s, Ferrari supplied Formula One cars to a number of private entrants and other teams. One famous example was Tony Vandervell\\\\\\'s team, which raced the Thinwall Special modified Ferraris before building their own Vanwall cars. The North American Racing Team\\\\\\'s entries in the final three rounds of the 1969 season were the last occasions on which a team other than Scuderia Ferrari entered a World Championship Grand Prix with a Ferrari car.[63]\\\\n\\\\nFerrari supplied cars complete with V8 engines for the A1 Grand Prix series, from the 2008–2009 season.[64] The car was designed by Rory Byrne and is styled to resemble the 2004 Ferrari Formula one car. Ferrari currently runs a customer GT program for a racing version of its 458 and has done so for the 458\\\\\\'s predecessors, dating back to the 355 in the late 1990s. Such private teams as the American Risi Competizione and Italian AF Corse teams have been very successful with Ferrari GT racers over the years. This car, made for endurance sportscar racing to compete against such racing versions of the Audi R8, McLaren MP4-12C, and BMW Z4 (E89) has proven to be successful, but not as successful as its predecessor, the F430. The Ferrari Challenge is a one-make racing series for the Ferrari 458. The FXX is not road legal and is therefore only used for track events. Road cars\\\\n\\\\n[edit]\\\\n\\\\nFor a complete list, including future and concept car models, see List of Ferrari road cars. This section needs additional citations for verification .\\'), Document(id=\\'86159822-e4b8-4735-b4c7-31f78d16eecc\\', metadata={\\'source\\': \\'../data/Ferrari.html\\'}, page_content=\\'Retrieved 13 December 2014. ^ a b \"Ferrari Special Projects: a detailed overview (part 2 of 3)\". ROSSOautomobili.\\'), Document(id=\\'23fa1b07-2059-4619-b365-191e559023a7\\', metadata={\\'source\\': \\'../data/Ferrari.html\\'}, page_content=\\'^ a b Joseph, Noah (23 June 2014). \"Ferrari reveals one-off F12 TRS at Sicily cavalcade homage\". autoblog.com.\\'), Document(id=\\'7200be46-b0f6-4599-a5c5-57732b5dc814\\', metadata={\\'source\\': \\'../data/Ferrari.html\\'}, page_content=\\'^ Jupo, Ethan (21 February 2023). \"The 9 best Ferrari liveries that aren\\\\\\'t red\". Goodwood.\\')]' name='vector_search' id='606d6a6d-c6fb-478c-90ff-6af705e02560' tool_call_id='call_hsxHwQyEqnbhg23KEXdshSp7'\n",
      "---------------------------\n",
      "content='Ferrari S.p.A., founded in 1939 by Enzo Ferrari, is an iconic Italian luxury sports car manufacturer based in Maranello. The company initially gained prominence in motorsport, particularly in Formula One, where it remains the oldest and most successful team. Over the years, Ferrari has evolved its production techniques, moving from independent coachbuilders to in-house design, and currently offers a wide range of models, including its first fully electric car set to debut in 2025. The brand is synonymous with high-performance vehicles and maintains a reputation for exclusivity and luxury in the automotive industry.' additional_kwargs={'refusal': None} response_metadata={'token_usage': {'completion_tokens': 121, 'prompt_tokens': 10502, 'total_tokens': 10623, 'completion_tokens_details': {'accepted_prediction_tokens': 0, 'audio_tokens': 0, 'reasoning_tokens': 0, 'rejected_prediction_tokens': 0}, 'prompt_tokens_details': {'audio_tokens': 0, 'cached_tokens': 10368}}, 'model_name': 'gpt-4o-mini-2024-07-18', 'system_fingerprint': 'fp_34a54ae93c', 'finish_reason': 'stop', 'logprobs': None} id='run--6d024ed1-5acb-4cce-af7f-50ccae42143d-0' usage_metadata={'input_tokens': 10502, 'output_tokens': 121, 'total_tokens': 10623, 'input_token_details': {'audio': 0, 'cache_read': 10368}, 'output_token_details': {'audio': 0, 'reasoning': 0}}\n"
     ]
    }
   ],
   "source": [
    "for res in response2[\"messages\"]:\n",
    "    print(\"---------------------------\")\n",
    "    print(res)"
   ]
  },
  {
   "cell_type": "code",
   "execution_count": null,
   "id": "88e89732-35ba-46c2-a655-66f70a0ddf50",
   "metadata": {},
   "outputs": [],
   "source": []
  }
 ],
 "metadata": {
  "kernelspec": {
   "display_name": "tumo-2025-summer-workshop",
   "language": "python",
   "name": "tumo-2025-summer-workshop"
  },
  "language_info": {
   "codemirror_mode": {
    "name": "ipython",
    "version": 3
   },
   "file_extension": ".py",
   "mimetype": "text/x-python",
   "name": "python",
   "nbconvert_exporter": "python",
   "pygments_lexer": "ipython3",
   "version": "3.13.2"
  }
 },
 "nbformat": 4,
 "nbformat_minor": 5
}
