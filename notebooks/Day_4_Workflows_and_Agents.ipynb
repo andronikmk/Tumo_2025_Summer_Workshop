{
 "cells": [
  {
   "cell_type": "markdown",
   "id": "6acf9ccb-a7b1-449c-9db1-d99f896ff4d2",
   "metadata": {},
   "source": [
    "# Day 4: Workflows and Agents\n",
    "\n",
    "<div style=\"text-align:center;\">\n",
    "    <img src=\"../assets/wf_a.png\" width=\"\" height=\"\"/>\n",
    "</div>"
   ]
  },
  {
   "cell_type": "markdown",
   "id": "981378e8-5f44-4929-a66f-7dc67b52bb9a",
   "metadata": {},
   "source": [
    "**Summary:** In this notebook, we will start learning about agents. How we can use Langhchain and a new tool called [Langgraph](https://langchain-ai.github.io/langgraph/concepts/why-langgraph/#learn-langgraph-basics) to build agentic systems. In addition, we will start learning about Workflows.\n",
    "\n",
    "Recommended Reading:\n",
    "+ [Building Effective Agent - Anthropic](https://www.anthropic.com/engineering/building-effective-agents)"
   ]
  },
  {
   "cell_type": "markdown",
   "id": "e1b53a46-45a9-494a-8a44-eea49d9324a6",
   "metadata": {},
   "source": [
    "# Part 1: Agents\n",
    "\n",
    "One way to think about agents is an LLM that has access to a tool or tools. Whenever it needs that tool to answer a question it uses the tool. If it doesn't need the tool to answer a question it doesn't use it. \n",
    "\n",
    "For example, what if ChatGPT could use a calculator to answer an addition question or if it could Google a fact if it needed more information about something to answer a question.\n",
    "\n",
    "\n",
    "<div style=\"text-align:center;\">\n",
    "    <img src=\"../assets/agents.png\" width=\"\" height=\"\"/>\n",
    "</div>\n",
    "\n",
    "\n",
    "**Tools:** You can think of tools as functions. Your tools can be something as simple as addition or something more complicated like searching the web to find results. We'll be using Langchain to build out our tools, which will look like functuions and pass it to the LLM for use. \n",
    "\n",
    "Then based on our question the LLM will decide on whether it makes sense to use of the tool. Langchain make it easy with the `@tool` decorator. Let's start..."
   ]
  },
  {
   "cell_type": "code",
   "execution_count": 47,
   "id": "512098e4-14dd-4bc9-935f-699daa870103",
   "metadata": {},
   "outputs": [],
   "source": [
    "import os\n",
    "from dotenv import load_dotenv\n",
    "load_dotenv()\n",
    "\n",
    "from langgraph.prebuilt import create_react_agent\n",
    "from langchain_openai import ChatOpenAI\n",
    "from langchain_core.tools import tool\n",
    "from langchain_openai import OpenAIEmbeddings\n",
    "from langchain_chroma import Chroma"
   ]
  },
  {
   "cell_type": "code",
   "execution_count": 46,
   "id": "c61e2f01-d6cc-4d2c-baa4-3b11fba21efe",
   "metadata": {},
   "outputs": [],
   "source": [
    "openai_api_key = os.environ.get(\"OPENAI_API_KEY\")\n",
    "openai_organization = os.environ.get(\"OPENAI_ORGANIZATION\")"
   ]
  },
  {
   "cell_type": "code",
   "execution_count": 16,
   "id": "e17c7084-9ec0-4100-9994-51827cb74d18",
   "metadata": {},
   "outputs": [],
   "source": [
    "# Step 1: Define an additional tool. \n",
    "#    Out first tool will take two numbers add them and return the result\n",
    "\n",
    "@tool\n",
    "def addition(x: int, y: int) -> int:\n",
    "    \"\"\"This function is used to add two numbers together and return the result\"\"\"\n",
    "    return x + y\n",
    "\n",
    "# Step 2: Add tools to your list of tools\n",
    "tools = [addition]\n",
    "\n",
    "# Step 3: Instantiate a model\n",
    "llm = ChatOpenAI(\n",
    "    openai_api_key = openai_api_key, \n",
    "    openai_organization = openai_organization,\n",
    "    model = \"gpt-4o-mini\")\n",
    "\n",
    "# Step 4: Create an agent\n",
    "agent = create_react_agent(llm, tools=tools)"
   ]
  },
  {
   "cell_type": "code",
   "execution_count": 33,
   "id": "3e4a4a66-f52a-43f1-b9c1-0ad9f60dd793",
   "metadata": {},
   "outputs": [],
   "source": [
    "# Step 5: Use your agent + tool to ask a question about addition.\n",
    "response = agent.invoke({\"messages\":\"What is 1 + 1?\"})"
   ]
  },
  {
   "cell_type": "code",
   "execution_count": 34,
   "id": "0e6ee337-0a32-4e76-ae5d-75c06c61674a",
   "metadata": {},
   "outputs": [
    {
     "name": "stdout",
     "output_type": "stream",
     "text": [
      "-------------------\n",
      "content='What is 1 + 1?' additional_kwargs={} response_metadata={} id='bbda38aa-0306-44a0-8b32-a9e47f776943'\n",
      "-------------------\n",
      "content='' additional_kwargs={'tool_calls': [{'id': 'call_0uLGnWGzJvF7YfQmwgFvcPbl', 'function': {'arguments': '{\"x\":1,\"y\":1}', 'name': 'addition'}, 'type': 'function'}], 'refusal': None} response_metadata={'token_usage': {'completion_tokens': 18, 'prompt_tokens': 62, 'total_tokens': 80, 'completion_tokens_details': {'accepted_prediction_tokens': 0, 'audio_tokens': 0, 'reasoning_tokens': 0, 'rejected_prediction_tokens': 0}, 'prompt_tokens_details': {'audio_tokens': 0, 'cached_tokens': 0}}, 'model_name': 'gpt-4o-mini-2024-07-18', 'system_fingerprint': 'fp_34a54ae93c', 'finish_reason': 'tool_calls', 'logprobs': None} id='run--b98ea272-ebb0-422b-89d1-3e2db6c135a4-0' tool_calls=[{'name': 'addition', 'args': {'x': 1, 'y': 1}, 'id': 'call_0uLGnWGzJvF7YfQmwgFvcPbl', 'type': 'tool_call'}] usage_metadata={'input_tokens': 62, 'output_tokens': 18, 'total_tokens': 80, 'input_token_details': {'audio': 0, 'cache_read': 0}, 'output_token_details': {'audio': 0, 'reasoning': 0}}\n",
      "-------------------\n",
      "content='2' name='addition' id='6d4b846a-8da0-443d-ad70-851345719274' tool_call_id='call_0uLGnWGzJvF7YfQmwgFvcPbl'\n",
      "-------------------\n",
      "content='1 + 1 equals 2.' additional_kwargs={'refusal': None} response_metadata={'token_usage': {'completion_tokens': 9, 'prompt_tokens': 88, 'total_tokens': 97, 'completion_tokens_details': {'accepted_prediction_tokens': 0, 'audio_tokens': 0, 'reasoning_tokens': 0, 'rejected_prediction_tokens': 0}, 'prompt_tokens_details': {'audio_tokens': 0, 'cached_tokens': 0}}, 'model_name': 'gpt-4o-mini-2024-07-18', 'system_fingerprint': 'fp_34a54ae93c', 'finish_reason': 'stop', 'logprobs': None} id='run--b89ca391-38c2-4237-9469-2b41fb950115-0' usage_metadata={'input_tokens': 88, 'output_tokens': 9, 'total_tokens': 97, 'input_token_details': {'audio': 0, 'cache_read': 0}, 'output_token_details': {'audio': 0, 'reasoning': 0}}\n"
     ]
    }
   ],
   "source": [
    "for msg in response[\"messages\"]:\n",
    "    print(\"-------------------\")\n",
    "    print(msg)"
   ]
  },
  {
   "cell_type": "code",
   "execution_count": 35,
   "id": "de628ecf-c354-42b2-9d51-9db1d8dc36d6",
   "metadata": {},
   "outputs": [],
   "source": [
    "# Let's test our agent on questions that don't have to do with addition....\n",
    "response = agent.invoke({\"messages\":\"What is the capital of Indonesia?\"})"
   ]
  },
  {
   "cell_type": "code",
   "execution_count": 36,
   "id": "02faabcf-b99b-4855-9f4d-1190a55b8760",
   "metadata": {},
   "outputs": [
    {
     "name": "stdout",
     "output_type": "stream",
     "text": [
      "-------------------\n",
      "content='What is the capital of Indonesia?' additional_kwargs={} response_metadata={} id='b3264ea2-0b6c-4faa-ba23-7c7bd5140e75'\n",
      "-------------------\n",
      "content='The capital of Indonesia is Jakarta.' additional_kwargs={'refusal': None} response_metadata={'token_usage': {'completion_tokens': 8, 'prompt_tokens': 61, 'total_tokens': 69, 'completion_tokens_details': {'accepted_prediction_tokens': 0, 'audio_tokens': 0, 'reasoning_tokens': 0, 'rejected_prediction_tokens': 0}, 'prompt_tokens_details': {'audio_tokens': 0, 'cached_tokens': 0}}, 'model_name': 'gpt-4o-mini-2024-07-18', 'system_fingerprint': 'fp_34a54ae93c', 'finish_reason': 'stop', 'logprobs': None} id='run--cda803ad-65ed-42cb-9d48-55d947f1e8b2-0' usage_metadata={'input_tokens': 61, 'output_tokens': 8, 'total_tokens': 69, 'input_token_details': {'audio': 0, 'cache_read': 0}, 'output_token_details': {'audio': 0, 'reasoning': 0}}\n"
     ]
    }
   ],
   "source": [
    "for msg in response[\"messages\"]:\n",
    "    print(\"-------------------\")\n",
    "    print(msg)"
   ]
  },
  {
   "cell_type": "markdown",
   "id": "57f2be52-9ffa-4b83-8e73-4df5a04e2c47",
   "metadata": {},
   "source": [
    "### Let's look at what just happend\n",
    "\n",
    "Question 1: What is 1 + 1?\n",
    "\n",
    "```mermaid\n",
    "flowchart LR\n",
    "    node1[Question 1]\n",
    "    node2[LLM asks is tool needed?]\n",
    "    node3[Agent]\n",
    "    node4[Agent]\n",
    "    node5[Answer]\n",
    "    node6[addition tool]\n",
    "    node7[Answer]\n",
    "    node1 ---> node2\n",
    "    node2 -- No --> node3\n",
    "    node2 -- Yes --> node4\n",
    "    node3 --> node5\n",
    "    node4 <--> node6\n",
    "    node4 ---> node7\n",
    "\n",
    "   subgraph highlight [\" \"]\n",
    "        node4\n",
    "        node6\n",
    "        node7\n",
    "    end\n",
    "```\n",
    "---\n",
    "Question 2: What is the capital of Indonesia?\n",
    "\n",
    "```mermaid\n",
    "flowchart LR\n",
    "    node1[Question 2]\n",
    "    node2[LLM asks is tool needed?]\n",
    "    node3[Agent]\n",
    "    node4[Agent]\n",
    "    node5[Answer]\n",
    "    node6[addition tool]\n",
    "    node7[Answer]\n",
    "    node1 ---> node2\n",
    "    node2 -- No --> node3\n",
    "    node2 -- Yes --> node4\n",
    "    node3 --> node5\n",
    "    node4 <--> node6\n",
    "    node4 ---> node7\n",
    "\n",
    "    subgraph highlight [\" \"]\n",
    "        node3\n",
    "        node5\n",
    "    end\n",
    "    \n",
    "```"
   ]
  },
  {
   "cell_type": "markdown",
   "id": "096bd780-af2a-4e1b-9769-dcb400efe1eb",
   "metadata": {},
   "source": [
    "# Step 2: More About Tools...\n",
    "\n",
    "+ We do not need to limit the amount of tools to use to just one. We can set up multiple different tools for different things so let's try that."
   ]
  },
  {
   "cell_type": "code",
   "execution_count": 149,
   "id": "a15af703-7857-4dd1-befa-4df84edbf35c",
   "metadata": {},
   "outputs": [],
   "source": [
    "@tool\n",
    "def multiplication(x: int, y: int) -> int:\n",
    "    \"\"\"Use the tool whenever you need to multiply two different numbers and return the result\"\"\"\n",
    "    return x * y\n",
    "\n",
    "@tool\n",
    "def celsius_to_fahrenheit(c: float):\n",
    "    \" Converts celsius to fahrenheit \"\n",
    "    return (c * 9/5) + 32 \n",
    "\n",
    "@tool\n",
    "def vector_search(question: str) -> str:\n",
    "    \"\"\" Function whenever a user is asking about querying my first database \"\"\"\n",
    "    embeddings = OpenAIEmbeddings(openai_api_key=openai_api_key,\n",
    "                                  model=\"text-embedding-3-large\",\n",
    "                                  chunk_size=1000)\n",
    "    \n",
    "    vector_store = Chroma(collection_name=\"tumo_2025\",\n",
    "                          embedding_function=embeddings,\n",
    "                          persist_directory=\"../db/my_first_vdb/\")\n",
    "    \n",
    "    retriever = vector_store.as_retriever(search_kwargs={\"k\": 10})\n",
    "    \n",
    "    return retriever.invoke(question)"
   ]
  },
  {
   "cell_type": "code",
   "execution_count": 150,
   "id": "cf5f5cec-ba1d-4987-a10c-779576821ceb",
   "metadata": {},
   "outputs": [],
   "source": [
    "tools = [multiplication, celsius_to_fahrenheit, vector_search]"
   ]
  },
  {
   "cell_type": "code",
   "execution_count": 153,
   "id": "11c09703-4101-4010-b573-b3a7e6854084",
   "metadata": {},
   "outputs": [],
   "source": [
    "llm = ChatOpenAI(\n",
    "    openai_api_key = openai_api_key, \n",
    "    openai_organization = openai_organization,\n",
    "    model = \"gpt-4o-mini\")\n",
    "\n",
    "agent = create_react_agent(llm, tools=tools)"
   ]
  },
  {
   "cell_type": "code",
   "execution_count": 154,
   "id": "9d89aa88-f210-4217-be70-9a13db7eed46",
   "metadata": {},
   "outputs": [
    {
     "data": {
      "text/plain": [
       "{'messages': [HumanMessage(content='Convert 32 degrees Celsius to Fahrenheit', additional_kwargs={}, response_metadata={}, id='2183cc42-07bb-40c2-99fb-280c742450d2'),\n",
       "  AIMessage(content='', additional_kwargs={'tool_calls': [{'id': 'call_RAyE2rE7260zAxD56EnTKK85', 'function': {'arguments': '{\"c\":32}', 'name': 'celsius_to_fahrenheit'}, 'type': 'function'}], 'refusal': None}, response_metadata={'token_usage': {'completion_tokens': 17, 'prompt_tokens': 113, 'total_tokens': 130, 'completion_tokens_details': {'accepted_prediction_tokens': 0, 'audio_tokens': 0, 'reasoning_tokens': 0, 'rejected_prediction_tokens': 0}, 'prompt_tokens_details': {'audio_tokens': 0, 'cached_tokens': 0}}, 'model_name': 'gpt-4o-mini-2024-07-18', 'system_fingerprint': 'fp_34a54ae93c', 'finish_reason': 'tool_calls', 'logprobs': None}, id='run--cbc0024e-c55e-4d07-9319-0279fb1d100e-0', tool_calls=[{'name': 'celsius_to_fahrenheit', 'args': {'c': 32}, 'id': 'call_RAyE2rE7260zAxD56EnTKK85', 'type': 'tool_call'}], usage_metadata={'input_tokens': 113, 'output_tokens': 17, 'total_tokens': 130, 'input_token_details': {'audio': 0, 'cache_read': 0}, 'output_token_details': {'audio': 0, 'reasoning': 0}}),\n",
       "  ToolMessage(content='89.6', name='celsius_to_fahrenheit', id='2208f6ac-f2a7-4af1-8ec3-a0c133ed5986', tool_call_id='call_RAyE2rE7260zAxD56EnTKK85'),\n",
       "  AIMessage(content='32 degrees Celsius is equal to 89.6 degrees Fahrenheit.', additional_kwargs={'refusal': None}, response_metadata={'token_usage': {'completion_tokens': 14, 'prompt_tokens': 144, 'total_tokens': 158, 'completion_tokens_details': {'accepted_prediction_tokens': 0, 'audio_tokens': 0, 'reasoning_tokens': 0, 'rejected_prediction_tokens': 0}, 'prompt_tokens_details': {'audio_tokens': 0, 'cached_tokens': 0}}, 'model_name': 'gpt-4o-mini-2024-07-18', 'system_fingerprint': 'fp_34a54ae93c', 'finish_reason': 'stop', 'logprobs': None}, id='run--cbcda8fa-6d77-4457-8245-8a00dabf32f9-0', usage_metadata={'input_tokens': 144, 'output_tokens': 14, 'total_tokens': 158, 'input_token_details': {'audio': 0, 'cache_read': 0}, 'output_token_details': {'audio': 0, 'reasoning': 0}})]}"
      ]
     },
     "execution_count": 154,
     "metadata": {},
     "output_type": "execute_result"
    }
   ],
   "source": [
    "agent.invoke({\"messages\":\"Convert 32 degrees Celsius to Fahrenheit\"})"
   ]
  },
  {
   "cell_type": "code",
   "execution_count": 156,
   "id": "b32d7fda-dac1-453d-a539-78204ed1dfb2",
   "metadata": {},
   "outputs": [
    {
     "data": {
      "text/plain": [
       "{'messages': [HumanMessage(content='Summarize the article on Ferrari stored in my vector database. Make sure to summarize the aticle in 3-4 sentences', additional_kwargs={}, response_metadata={}, id='5c69f03b-467f-4d42-b17e-09f7e42c4b17'),\n",
       "  AIMessage(content='', additional_kwargs={'tool_calls': [{'id': 'call_LBLb8PC95sb5b6bkZ0xt3OZL', 'function': {'arguments': '{\"question\":\"Ferrari article summary\"}', 'name': 'vector_search'}, 'type': 'function'}], 'refusal': None}, response_metadata={'token_usage': {'completion_tokens': 17, 'prompt_tokens': 132, 'total_tokens': 149, 'completion_tokens_details': {'accepted_prediction_tokens': 0, 'audio_tokens': 0, 'reasoning_tokens': 0, 'rejected_prediction_tokens': 0}, 'prompt_tokens_details': {'audio_tokens': 0, 'cached_tokens': 0}}, 'model_name': 'gpt-4o-mini-2024-07-18', 'system_fingerprint': 'fp_34a54ae93c', 'finish_reason': 'tool_calls', 'logprobs': None}, id='run--50a0e828-c831-42bc-bb2e-395a6d688563-0', tool_calls=[{'name': 'vector_search', 'args': {'question': 'Ferrari article summary'}, 'id': 'call_LBLb8PC95sb5b6bkZ0xt3OZL', 'type': 'tool_call'}], usage_metadata={'input_tokens': 132, 'output_tokens': 17, 'total_tokens': 149, 'input_token_details': {'audio': 0, 'cache_read': 0}, 'output_token_details': {'audio': 0, 'reasoning': 0}}),\n",
       "  ToolMessage(content='[Document(id=\\'e48419fa-e428-451a-aee6-c950230a9b20\\', metadata={\\'source\\': \\'../data/Ferrari.html\\'}, page_content=\\'ISBN 9782880011291. ^ a b Fearnley, Paul (June 2015). \"The race Ferrari doesn\\\\\\'t need\". Motor Sport Magazine. Archived from the original on 15 May 2023. Retrieved 11 May 2023. ^ \"Legendary Finish: Ferrari History\". Official Ferrari website. 11 June 2019.\\'), Document(id=\\'b60044fb-0911-42b2-a480-92625e96d512\\', metadata={\\'source\\': \\'../data/Ferrari.html\\'}, page_content=\\'Retrieved 16 September 2023. ^ a b c d Ludvigsen, Karl (2 December 2021). \"The Rise and Fall of Scuderia Ferrari\". Forza Magazine. Retrieved 19 March 2023. ^ a b c d Aversa, Paolo; Schreiter, Katrin; Guerrini, Filippo (26 July 2021). \"The Birth of a Business Icon through Cultural Branding: Ferrari and the Prancing Horse, 1923–1947\" (PDF). Enterprise & Society.\\'), Document(id=\\'71294914-815b-4ae6-a3bb-1ba1942cb137\\', metadata={\\'source\\': \\'../data/Ferrari.html\\'}, page_content=\\'Archived from the original on 3 January 2024. Retrieved 3 January 2024. ^ a b Valdes-Dapena, Peter (27 March 2015). \"How Ferrari maintains its mystique\". CNN.\\'), Document(id=\\'c34fa8bc-b4aa-4655-a9de-41b8a526751b\\', metadata={\\'source\\': \\'../data/Ferrari.html\\'}, page_content=\\'^ Woodard, Collin (13 December 2017). \"So Many People Want Ferraris, the Factory Has to Increase Production\". Motor Trend. Retrieved 22 May 2023. ^ \"Ferrari to Cut its Licensing Deals in Half as it Looks to Move its Non-Car Offerings Up the Luxury Ladder\". The Fashion Law.\\'), Document(id=\\'01984288-14d5-421b-9494-ddd9d4180dfc\\', metadata={\\'source\\': \\'../data/Ferrari.html\\'}, page_content=\\'^ a b Lingeman, Jake (5 December 2011). \"Ferrari-offers-tailor-made-program\". Autoweek.\\'), Document(id=\\'86159822-e4b8-4735-b4c7-31f78d16eecc\\', metadata={\\'source\\': \\'../data/Ferrari.html\\'}, page_content=\\'Retrieved 13 December 2014. ^ a b \"Ferrari Special Projects: a detailed overview (part 2 of 3)\". ROSSOautomobili.\\'), Document(id=\\'87455e20-3ba1-4428-8a23-0b8d46d8e54c\\', metadata={\\'source\\': \\'../data/Ferrari.html\\'}, page_content=\\'^ Golson, Jordan (24 October 2014). \"How to Earn the Right to Buy Ferrari\\\\\\'s Most Exclusive Hypercar\". Wired.\\'), Document(id=\\'73239c19-f46c-4ec2-bb09-acaa64bfdf13\\', metadata={\\'source\\': \\'../data/Ferrari.html\\'}, page_content=\\'Presented in 2018. P80/C 2019 488 GT3 TK Mak [ 93 ] One-off track-only car inspired by the 330 P3 , 330 P4 and the Dino 206 S . Omologata 2020 812 Superfast — Designed by Ferrari Design Center team in Maranello directed by Flavio Manzoni . [ 94 ] BR20 2021 GTC4Lusso — Fastback coupé instead of a shooting brake. Inspired by the 410 Superamerica and 500 Superfast . [ 95 ] SP48 Unica 2022 F8 Tributo — [ 96 ] SP51 2022 812 GTS — [ 97 ] KC23 2023 488 GT3 Evo — [ 98 ] SP-8 2023 F8 — [ 99 ]\\\\n\\\\nBio-fuel and hybrid cars\\\\n\\\\n[edit]\\\\n\\\\nAn F430 Spider that runs on ethanol was displayed at the 2008 Detroit Auto Show. At the 2010 Geneva Motor Show, Ferrari unveiled a hybrid version of their flagship 599. Called the \"HY-KERS Concept\", Ferrari\\\\\\'s hybrid system adds more than 100 horsepower on top of the 599 Fiorano\\\\\\'s 612 hp.[100] Also in mid-2014, the flagship LaFerrari was put into production featuring a hybrid system. Ferrari introduced their first plug-in hybrid (PHEV) model in 2019 with the SF90 Stradale, followed by the 296 in 2021.[101]\\\\n\\\\nNaming conventions\\\\n\\\\n[edit]\\\\n\\\\nFrom the beginning, the Ferrari naming convention consisted of a three-digit unitary displacement of an engine cylinder with an additional suffix representing the purpose of a vehicle. Therefore, Ferrari 125 S had 1.5 L (1,496.77 cc) V12 engine with a unitary displacement of 124.73 cc; whilst S-suffix represented Sport. Other race cars also received names invoking particular races such as Ferrari 166 MM for Mille Miglia. With the introduction of road-going models, the suffix Inter was added, inspired by the Scuderia Inter racing team of Igor Troubetzkoy. Popular at that time 166-series had 2.0 L (1,995.02 cc) engines with 166.25 cc of unitary displacement and a very diverse 250-series had 3.0 L (2,953.21 cc) of total displacement and 246.10 cc of unitary. Later series of road cars were renamed Europa and top-of-the-line series America and Superamerica. Until the early 1990s, Ferrari followed a three-number naming scheme based on engine displacement and a number of cylinders:\\\\n\\\\nV6 and V8 models used the total displacement (in decilitres) for the first two digits and the number of cylinders as the third. Thus, the 206 was a 2.0 L V6 powered vehicle, while the 348 used a 3.4 L V8, although, for the F355, the last digit refers to 5 valves per cylinder. Upon introduction of the 360 Modena, the digits for V8 models (which now carried a name as well as a number) refer only to total engine displacement. The numerical indication aspect of this name carried on to the F430; the F430\\\\\\'s replacement, the 458 Italia, uses the same naming as the 206 and 348. The 488 uses the system formerly used by the V12 cars. V12 models used the displacement (in cubic centimetres) of one cylinder. Therefore, the famed 365 Daytona had a 4,390 cc (268 cu in) V12. However, some newer V12-engined Ferraris, such as the 599, have three-number designations that refer only to total engine displacement or boxer-style designations such as the six-litre V12 612. Flat 12 models used the displacement in litres for the first digit and the number of cylinders for the next two digits. Therefore, the 512 BB was five-litre flat 12 (a Berlinetta Boxer, in this case). However, the original Berlinetta Boxer was the 365 GT4 BB, which was named in a similar manner to the V12 models. Flagship models (aka \"halo cars\") use the letter F followed by the anniversary in years, such as the F40 and F50. The Enzo skipped this rule, although the F60 name was applied to a Ferrari Formula One car and is sometimes attached to the Enzo. Some models, such as the 1980 Mondial and 1984 Testarossa did not follow a three-number naming scheme. Most Ferraris were also given designations referring to their body style. In general, the following conventions were used:\\\\n\\\\nM (\"Modificata\"), placed at the end of a model\\\\\\'s number, denotes a modified version of its predecessor and not a complete evolution (see F512 M and 575 M Maranello). GTB (\"Gran Turismo Berlinetta\") models are closed Berlinettas, or coupés. GTS (\"Gran Turismo Scoperta\") this suffix can be seen in older spiders, or convertibles (see 365 GTS/4). Now the convertible models use the suffix \"Spider\" (spelt \"i\") (see F355 Spider, and 360 Spider). In more recent models, this suffix is used for targa top models (see Dino 246 GTS, and F355 GTS), which is an absolutely correct use of the suffix since \"scoperta\" means \"uncovered\". An increasing number of people tend to refer to GTS as \"Gran Turismo Spyder\", which creates the false assumption that Ferrari does not know the difference between \"spyder\" and \"targa\". The 348 TS, which is the only targa named differently, is an exception. GTO (\"Gran Turismo Omologata\"), placed at the end of a model\\\\\\'s number, denotes a modified version of its predecessor. It designates a model that has been designed and improved for racetrack use while still being street legal. Only three models bear those three letters: the 250 GTO of 1962, the 288 GTO of 1984, and the 599 GTO of 2010. This naming system can be confusing, as some entirely different vehicles used the same engine type and body style. Many Ferraris also had other names affixed (such as Daytona) to identify them further. Many such names are not official factory names. The Daytona name commemorates Ferrari\\\\\\'s triple success in the February 1967 24 Hours of Daytona with the 330 P4.[102] Only in the 1973 Daytona 24 Hours, a 365 GTB/4 run by NART (who raced Ferraris in America) ran second, behind a Porsche 911.[103]\\\\n\\\\nThe various Dino models were named for Enzo\\\\\\'s son, Dino Ferrari, and were marketed as Dinos by Ferrari and sold at Ferrari dealers – for all intents and purposes they are Ferraris. In the mid-1990s, Ferrari added the letter \"F\" to the beginning of all models (a practice abandoned after the F512 M and F355, but adopted again with the F430, but not with its successor, the Ferrari 458). Identity\\\\n\\\\n[edit]\\\\n\\\\nThe \"Prancing Horse\"\\\\n\\\\n[edit]\\\\n\\\\nMain article: Prancing Horse\\\\n\\\\nFerrari\\\\\\'s symbol is the \"Prancing Horse\" (Italian: Cavallino Rampante, lit. \\\\\\'little prancing horse\\\\\\'), a prancing black horse on a yellow background. Minor details of its appearance have changed many times, but its shape has remained consistent: it is always presented either as a shield, with the Italian tricolour above the horse and the initials SF (\"Scuderia Ferrari\") below; or as a rectangle, replacing \"SF\" with the word \"Ferrari\" rendered in the company\\\\\\'s trademark typeface.[104]\\\\n\\\\nEnzo Ferrari offered an account of the horse\\\\\\'s origins. In his story, after a 1923 victory in Ravenna, the family of Francesco Baracca, a deceased flying ace who painted the emblem on his airplane, paid him a visit. Paolina de Biancoli, Francesco\\\\\\'s mother, suggested that Ferrari adopt the horse as a good luck charm: he accepted the request, and the Prancing Horse was first used by his racing team in 1932, applied to their Alfa Romeo 8C with the addition of a canary yellow background—the \"colour of Modena\", Enzo\\\\\\'s hometown.[104][9]: 43 The rectangular Prancing Horse has been used since 1947, when the Ferrari 125 S—also the first Ferrari-branded sports car—became the first to wear it.[104]\\\\n\\\\nColour\\\\n\\\\n[edit]\\\\n\\\\nMain article: Rosso corsa\\\\n\\\\nFor many years, rosso corsa (\\\\\\'racing red\\\\\\')[105] was the required colour of all Italian racing cars. It is also closely associated with Ferrari: even after livery regulations changed, allowing race teams to deviate from their national colours, Scuderia Ferrari continued to paint its cars bright red, as it does to this day.[106] On Ferrari\\\\\\'s road-going cars, the colour has always been among the company\\\\\\'s most popular choices: in 2012, 40 per cent of Ferraris left the factory painted red, while in the early 1990s the figure was even higher, at 85 per cent.[105][107] Some Ferrari vehicles, such as the 288 GTO, have only been made available in red.[105]\\\\n\\\\nAlthough rosso corsa is the colour most associated with Ferrari,[105][108] it has not always been the colour of choice. Ferraris raced by privateers have run in a rainbow of colours, and one 250 GT SWB, used as a test mule for the 250 GTO, was a rare non-red factory-backed car: it raced in blue.[109][110] In a particularly noteworthy case from 1964, while protesting the FIA\\\\\\'s homologation requirements, the company moved its racing assets to the North American Racing Team, an affiliated team based in the United States. As a result, Ferrari and the driver John Surtees won the 1964 Formula One season in American colours—blue, with a white racing stripe.[111][112] By the early 2010s, red had also become less common on Ferrari\\\\\\'s road cars, fighting with newly popular colours such as yellow, silver, and white.[107][108]\\\\n\\\\nSpeaking to both the popularity of rosso corsa and the power of the Ferrari brand, Enzo Ferrari is reported to have once said the following: \"Ask a child to draw a car, and he will certainly paint it red.\"[105]\\\\n\\\\nBrand image\\\\n\\\\n[edit]\\\\n\\\\nDescribed by the Wall Street Journal as \"synonymous with opulence, meticulous craftsmanship and ridiculously fast cars for nearly a century\",[113] Ferrari possesses a robust and powerful brand image. Owing to a combination of its cars, enthusiast culture, and successful licensing deals, in 2019 Ferrari was labelled the world\\\\\\'s strongest brand by the financial consultancy Brand Finance.[114]\\\\n\\\\nFerrari meticulously manages its brand image and public perception: it goes to great lengths to protect its trademarks, and its customers are expected to honour its rules and guidelines when caring for their cars. The company is noted for its frequent and diverse lawsuits, which have centred around such subjects as the shape of the Ferrari 250 GTO\\\\\\'s bodywork,[115] exclusive rights to model names (including \"Testarossa\" and \"Purosangue\"),[116][117] replica vehicles, and several unsanctioned owner modifications.[118] Via a bounty system, individuals may receive rewards for reporting counterfeit Ferrari products to the company.[119]\\\\n\\\\nFerrari aims to cultivate an image of exclusivity and refined luxury. To facilitate this, vehicle production is deliberately limited to below customer demand, and purchasers are internally ranked based on their desirability and loyalty.[120] Some cars may only be purchased by customers who have already owned multiple Ferraris,[121] and the company\\\\\\'s most exclusive supercars, such as the LaFerrari, have wait lists many times in excess of total production, with only the most loyal customers selected to purchase one.[122] In 2015, the company\\\\\\'s head of sales stated that the purpose of this strategy was to maintain the brand\\\\\\'s value, and to \"keep alive this dream that is called Ferrari\".[120]\\\\n\\\\nSometimes, Ferrari\\\\\\'s desire to maintain its brand perception goes against the wishes of its clientele. In one case, the company sued the fashion designer Philipp Plein over \"distasteful\" Instagram posts featuring his personal 812 Superfast. The posts, which showcased two models in suggestive positions atop the car, were seen by Ferrari as \"unlawfully appropriating\" the Ferrari brand to promote Plein\\\\\\'s clothing, and as being outside Ferrari\\\\\\'s intended brand perception.[123] Furthermore, the company places restrictions on what owners may do with their cars: they are not allowed to undertake certain modifications,[118] and the company\\\\\\'s right of first refusal contract, designed to discourage speculation and flipping, prohibits unauthorised sales within the first two years of ownership.[124][unreliable source?] Purchasers who break these rules are placed on a \"blacklist\", and may not be permitted to buy a Ferrari vehicle through official means.[125] These owner restrictions came to high profile in 2014, when the musician Deadmau5 was sent a cease and desist letter regarding his highly customised 458 Italia: the car, which he dubbed the \"Purrari\", possessed custom badges and a Nyan Cat-themed wrap, and was put up for sale on Craigslist.[118][126]\\\\n\\\\nFerrari does encourage its buyers to personalise their cars, but only through official channels, which include its Tailor Made programme for bespoke trim packages and special coachbuilding initiatives for more demanding commissions.[127] The customisation options offered through these channels are extensive, though they are always in line with Ferrari\\\\\\'s desired branding—for example, the company offers no pink paint for its cars. In 2017, the CEO of the company\\\\\\'s Australasia branch commented that this and similar customisations are \"against the company\\\\\\'s ethos,\" and that such a stance is \"a brand rule. No pink. No Pokémon Ferraris!\".[128]\\\\n\\\\nCorporate affairs\\\\n\\\\n[edit]\\\\n\\\\nIn 1963, Enzo Ferrari was approached by the Ford Motor Company about a possible buy out.[129] Ford audited Ferrari\\\\\\'s assets but legal negotiations and talks were unilaterally cut off by Ferrari when he realized that the deal offered by Ford would not enable him to stay at the helm of the company racing program. Henry Ford II consequently directed his racing division to negotiate with Lotus, Lola, and Cooper to build a car capable of beating Ferrari on the world endurance circuit, eventually resulting in the production of the Ford GT40 in 1964. As the Ford deal fell through, FIAT approached Ferrari with a more flexible proposal and purchased controlling interests in the company in 1969. Enzo Ferrari retained a 10% share, which is currently owned by his son Piero Lardi Ferrari. Ferrari has an internally managed merchandising line that licences many products bearing the Ferrari brand, including eyewear, pens, pencils, electronic goods, perfume, cologne, clothing, high-tech bicycles, watches, cell phones, and laptop computers. Ferrari also runs a museum, the Museo Ferrari in Maranello, which displays road and race cars and other items from the company\\\\\\'s history.[130][131]\\\\n\\\\nFormula Uomo programme\\\\n\\\\n[edit]\\\\n\\\\nIn 1997, Ferrari launched a long term master planned effort to improve overall corporate efficiency, production and employee happiness. The program was called Formula Uomo and became a case study in social sustainability.[132] It took over ten years to fully implement and included over €200 million (2008) in investment.[133]\\\\n\\\\nTechnical partnerships\\\\n\\\\n[edit]\\\\n\\\\nFerrari has had a long-standing relationship with petroleum company Shell Oil from the late 1950s to the early 1970s, and currently since 1996. Shell develops and supplies fuel and oils to the Scuderia Ferrari\\\\\\'s Formula One and World Endurance Championship teams, as well as Ducati Corse\\\\\\'s MotoGP and World Superbike teams. The Shell V-Power premium gasoline fuel is claimed to have been developed with the many years of technical expertise between Shell and Ferrari.[134]\\\\n\\\\nFerrari has had agreements to supply Formula One engines to a number of other teams over the years, and currently supply the Sauber[135][136] and Haas F1 F1 teams. Sales history\\\\n\\\\n[edit]\\\\n\\\\nAs of the end of 2019, the total of Ferrari built and sold cars in their whole company history is 219,062.[137]\\\\n\\\\nIn October 2023, Ferrari started accepting payment in cryptocurrency for its vehicles in the US with intentions to expand the scheme to Europe in 2024. The cryptocurrency payments will be immediately traded into traditional currency to avoid price swings.[138][139]\\\\n\\\\nYear Sales 1947 [ 140 ] ‡3 1948 [ 140 ] ‡5 1949 [ 140 ] ‡21 1950 [ 140 ] ‡25 1951 [ 140 ] ‡33 1952 [ 140 ] ‡44 1953 [ 140 ] ‡57 1954 [ 140 ] ‡58 1955 [ 140 ] ‡61 1956 [ 140 ] ‡81 1957 [ 140 ] ‡113 1958 [ 140 ] ‡183 1959 [ 140 ] ‡248 1960 [ 140 ] ‡306 1961 [ 140 ] ‡441 1962 [ 140 ] ‡493 1963 [ 140 ] ‡598 1964 [ 140 ] ‡654 1965 [ 140 ] ‡619 1966 [ 140 ] ‡928\\\\n\\\\nYear Sales 1967 [ 140 ] ‡706 1968 [ 140 ] ‡729 1969 [ 140 ] ‡619 1970 [ 140 ] ‡928 1971 [ 140 ] ‡1,246 1972 [ 140 ] ‡1,844 1973 [ 140 ] ‡1,772 1974 [ 140 ] ‡1,436 1975 [ 140 ] ‡1,337 1976 [ 140 ] ‡1,426 1977 [ 141 ] ‡1,798 1978 [ 140 ] ‡1,939 1979 [ 140 ] ‡2,221 1980 [ 140 ] ‡2,470 1981 [ 140 ] ‡2,565 1982 [ 140 ] ‡2,209 1983 [ 142 ] ‡2,366 1984 [ 143 ] ‡2,856 1985 [ 141 ] 3,051 1986 [ 141 ] 3,663\\\\n\\\\nYear Sales 1987 [ 144 ] 3,942 1988 [ 145 ] 4,001 1989 [ 145 ] 3,821 1990 [ 146 ] 4,293 1991 [ 146 ] 4,487 1992 [ 146 ] 3,384 1993 [ 146 ] 2,345 1994 [ 146 ] 2,671 1995 [ 146 ] 3,144 1996 [ 147 ] 3,350 1997 [ 147 ] 3,581 1998 [ 148 ] 3,652 1999 [ 148 ] 3,775 2000 [ 149 ] 4,070 2001 [ 150 ] 4,289 2002 [ 151 ] 4,236 2003 [ 152 ] 4,238 2004 [ 153 ] 4,975 2005 [ 154 ] 5,409 2006 [ 155 ] 5,671\\\\n\\\\nYear Sales 2007 [ 156 ] 6,465 2008 [ 157 ] 6,587 2009 [ 158 ] 6,250 2010 [ 159 ] 6,461 2011 [ 160 ] 7,001 2012 [ 161 ] 7,318 2013 [ 162 ] 6,922 2014 [ 163 ] †7,255 2015 [ 164 ] †7,664 2016 [ 165 ] †8,014 2017 [ 166 ] †8,398 2018 [ 167 ] †9,251 2019 [ 168 ] †10,131 2020 [ 169 ] †9,119 2021 [ 170 ] 11,115 2022 [ 171 ] 13,221 2023 [ 3 ] 13,663 2024 [ 3 ] 13,752\\\\n\\\\nRecalls\\\\n\\\\n[edit]\\\\n\\\\nIn January 2020, the Italian carmaker said it will recall 982 vehicles for passenger airbags due to the Takata airbag recalls.[172] If the inflator explodes, the airbag will spew metal shrapnel at passengers, which can cause severe injury.[172][173] Every car involved will get a new passenger-side airbag assembly, complete with a new inflator without the dangerous propellant.[172]\\\\n\\\\nOn 8 August 2022, the company recalled almost every car it\\\\\\'s sold in the US since 2005 over a potential for brake failure.[174][175] According to an NHTSA recall filing, 23,555 Ferrari models sold in America are fitted with a potentially faulty brake fluid reservoir cap that may not vent pressure adequately.[174] The affected cars will be fitted with a replacement cap and receive a software update.[174]\\\\n\\\\nStores and attractions\\\\n\\\\n[edit]\\\\n\\\\nRoughly thirty Ferrari boutiques exist worldwide, with two owned by Ferrari and the rest operating as franchises. The stores sell branded clothes,[176] accessories and racing memorabilia; some stores also feature racing simulators where visitors can drive virtual Ferrari vehicles. Clothing includes upscale and lower-priced collections for men, women, and children.[177] Ferrari debuted their high fashion brand with their first runway in June 2021.[178]\\\\n\\\\nThere are also two Ferrari-themed amusement parks:\\\\n\\\\nFerrari World Abu Dhabi opened in 2010, is the first Ferrari-branded theme park in the world, and is situated on Yas Island in Abu Dhabi, in the United Arab Emirates. It boasts 37 rides and attractions and is home to the world\\\\\\'s fastest roller coaster—Formula Rossa, and a dynamic coaster with one of the world\\\\\\'s tallest loop—Flying Aces.[179]\\\\n\\\\nFerrari Land, opened since 2017, is the second such Ferrari-themed amusement park, and is located in PortAventura World resort, Catalonia Spain. It has 16 rides and attractions, and is home to Europe\\\\\\'s fastest and highest vertical accelerator coaster—Red Force.[180]\\\\n\\\\nSee also\\\\n\\\\n[edit]\\\\n\\\\nflag\\\\n\\\\nItaly portal\\\\n\\\\n\\\\n\\\\nCars portal\\\\n\\\\n\\\\n\\\\nCompanies portal\\\\n\\\\nAutomotive industry in Italy\\\\n\\\\nList of automobile manufacturers of Italy\\\\n\\\\nList of companies of Italy\\\\n\\\\nList of Ferrari competition cars\\\\n\\\\nList of Ferrari engines\\\\n\\\\nList of Ferrari road cars\\\\n\\\\nScuderia Ferrari\\\\n\\\\nNotes\\\\n\\\\n[edit]\\\\n\\\\n^ The Dino 206 GT was preceded by the 250 LM Stradale and 365 P Berlinetta Speciale. Both were based on preexisting mid-engined racing cars, and were produced in extremely limited numbers.[23][24]\\\\n\\\\nReferences\\\\n\\\\n[edit]\\\\n\\\\n^ a b c \"History of Enzo Ferrari\". auto.ferrari.com.\\'), Document(id=\\'7ac5f896-e5b4-41ed-9cb6-a38678945e32\\', metadata={\\'source\\': \\'../data/Ferrari.html\\'}, page_content=\\'^ a b Wasef, Basem (24 July 2012). \"Why Are There Fewer Ferraris in Red?\". Popular Mechanics.\\'), Document(id=\\'190f0b3d-090e-4f22-9373-6e866964c4d0\\', metadata={\\'source\\': \\'../data/Ferrari.html\\'}, page_content=\\'^ a b c Gluckman, David (11 December 2009). \"Ferrari P540 Superfast Aperta: A One-Off Based on a One-Off\". caranddriver.com.\\')]', name='vector_search', id='464efbdd-b0d3-4487-8f02-4bffedca5eb5', tool_call_id='call_LBLb8PC95sb5b6bkZ0xt3OZL'),\n",
       "  AIMessage(content=\"Ferrari, synonymous with luxury and high-performance automotive engineering, has cultivated a prestigious brand image through meticulous craftsmanship and a storied racing heritage. Founded by Enzo Ferrari, the company has maintained exclusivity by limiting production and managing customer relationships, allowing only select buyers to purchase its most coveted models. Noteworthy innovations include the introduction of hybrid vehicles such as the SF90 Stradale, reflecting the brand's commitment to sustainability while preserving its iconic performance. Additionally, Ferrari's distinctive branding, symbolized by the Prancing Horse, continues to resonate globally, maintaining a legacy that intertwines automotive excellence with cultural significance.\", additional_kwargs={'refusal': None}, response_metadata={'token_usage': {'completion_tokens': 123, 'prompt_tokens': 6111, 'total_tokens': 6234, 'completion_tokens_details': {'accepted_prediction_tokens': 0, 'audio_tokens': 0, 'reasoning_tokens': 0, 'rejected_prediction_tokens': 0}, 'prompt_tokens_details': {'audio_tokens': 0, 'cached_tokens': 0}}, 'model_name': 'gpt-4o-mini-2024-07-18', 'system_fingerprint': 'fp_34a54ae93c', 'finish_reason': 'stop', 'logprobs': None}, id='run--6298cecb-087c-4aea-8606-f8651d664a01-0', usage_metadata={'input_tokens': 6111, 'output_tokens': 123, 'total_tokens': 6234, 'input_token_details': {'audio': 0, 'cache_read': 0}, 'output_token_details': {'audio': 0, 'reasoning': 0}})]}"
      ]
     },
     "execution_count": 156,
     "metadata": {},
     "output_type": "execute_result"
    }
   ],
   "source": [
    "agent.invoke({\"messages\":\"Summarize the article on Ferrari stored in my vector database. Make sure to summarize the aticle in 3-4 sentences\"})"
   ]
  },
  {
   "cell_type": "code",
   "execution_count": null,
   "id": "d01c4d39-7f1b-4973-8d3b-e8df81e6c0e6",
   "metadata": {},
   "outputs": [],
   "source": []
  }
 ],
 "metadata": {
  "kernelspec": {
   "display_name": "tumo-2025-summer-workshop",
   "language": "python",
   "name": "tumo-2025-summer-workshop"
  },
  "language_info": {
   "codemirror_mode": {
    "name": "ipython",
    "version": 3
   },
   "file_extension": ".py",
   "mimetype": "text/x-python",
   "name": "python",
   "nbconvert_exporter": "python",
   "pygments_lexer": "ipython3",
   "version": "3.13.2"
  }
 },
 "nbformat": 4,
 "nbformat_minor": 5
}
