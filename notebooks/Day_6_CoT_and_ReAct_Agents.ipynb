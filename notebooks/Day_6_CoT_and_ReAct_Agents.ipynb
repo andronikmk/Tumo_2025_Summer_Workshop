{
 "cells": [
  {
   "cell_type": "markdown",
   "id": "d4842494-066a-4fa4-affe-15f39808c781",
   "metadata": {},
   "source": [
    "# Day 6 – Chain-of-Thought & ReAct Agents + LangGraph Primer  \n",
    "### Project Proposal • Special Topics\n",
    "\n",
    "| 🔍 Topic | 📚 What you’ll learn | 🛠️ Hands-on |\n",
    "|----------|----------------------|-------------|\n",
    "| Chain-of-Thought (CoT) | Prompt pattern for step-by-step reasoning | Build a zero-tool CoT agent |\n",
    "| ReAct framework | Thought → Action → Observation loop | Revisit ReAct with a richer toolset |\n",
    "| LangGraph deep dive | Turns your agent workflow into an explicit graph | Visualize & execute a CoT→Tool hybrid |\n",
    "| Project proposals | Pitch capstone ideas | Break into teams & start skeleton repos |\n",
    "\n",
    "> **Audience:** HS students, beginner → intermediate Python  \n",
    "> **Prereqs:** Days 1-5 notebooks  \n",
    "> **Resources:** OpenAI API key, internet access for `wikipedia` only\n"
   ]
  },
  {
   "cell_type": "code",
   "execution_count": 14,
   "id": "5b8c199d-a34e-440e-b508-63069a68038f",
   "metadata": {},
   "outputs": [],
   "source": [
    "# %% ------------------------------------------------------------\n",
    "# 📦 Install / Imports (run once)\n",
    "# --------------------------------------------------------------\n",
    "# !pip install langchain-openai langgraph wikipedia python-dotenv rich --quiet\n",
    "\n",
    "import os\n",
    "from typing import List, Dict, Any, TypedDict\n",
    "from dotenv import load_dotenv\n",
    "load_dotenv()                         # expects OPENAI_API_KEY in .env\n",
    "\n",
    "from langchain_openai import ChatOpenAI\n",
    "from langchain_core.messages import HumanMessage, SystemMessage\n",
    "from langchain_core.tools import tool\n",
    "from langgraph.prebuilt import create_react_agent\n",
    "from langgraph.graph import StateGraph, END, START\n",
    "from pydantic import BaseModel, Field\n",
    "from IPython.display import Markdown, Image"
   ]
  },
  {
   "cell_type": "code",
   "execution_count": 6,
   "id": "aadda8c2-50fd-4b11-9c7d-7eb696d7373e",
   "metadata": {},
   "outputs": [
    {
     "name": "stdout",
     "output_type": "stream",
     "text": [
      "✅ LLM ready ✔︎\n"
     ]
    }
   ],
   "source": [
    "llm = ChatOpenAI(\n",
    "    model=\"gpt-4o-mini\",\n",
    "    temperature=0,\n",
    "    openai_api_key=os.getenv(\"OPENAI_API_KEY\")\n",
    ")\n",
    "print(\"✅ LLM ready ✔︎\")"
   ]
  },
  {
   "cell_type": "markdown",
   "id": "158645c3-cafd-4916-bd48-25c2e7d4f178",
   "metadata": {},
   "source": [
    "## Step 1: What is *Chain-of-Thought* (CoT)?\n",
    "\n",
    "* **Idea:** Ask the LLM to *think out loud* before giving the final answer.  \n",
    "* **Benefits:**  \n",
    "  * Higher accuracy on reasoning tasks  \n",
    "  * Easier to debug – you see every thought  \n",
    "* **Trade-off:**  \n",
    "  * Verbose output  \n",
    "  * Slightly higher token cost\n"
   ]
  },
  {
   "cell_type": "code",
   "execution_count": 7,
   "id": "0db2a8c1-faf0-4b4b-8c94-b72ce2f680f2",
   "metadata": {},
   "outputs": [
    {
     "name": "stdout",
     "output_type": "stream",
     "text": [
      "Thoughts: \n",
      "To find out how many apples remain after giving away some, I need to subtract the number of apples given away from the total number of apples I initially have. I start with 7 apples and give away 3. \n",
      "\n",
      "So, the calculation is:\n",
      "7 (initial apples) - 3 (given away) = 4 (remaining apples).\n",
      "\n",
      "Answer: 4 apples remain.\n"
     ]
    }
   ],
   "source": [
    "# %% ------------------------------------------------------------\n",
    "# 🧠 Implement a minimal CoT agent (no external tools)\n",
    "# --------------------------------------------------------------\n",
    "COT_SYSTEM_PROMPT = \"\"\"\n",
    "You are a helpful tutor who always thinks step-by-step.\n",
    "When answering a question, first write out your chain-of-thought\n",
    "under a header \"Thoughts:\", then give the short final answer\n",
    "under \"Answer:\".\n",
    "\"\"\"\n",
    "\n",
    "def cot_agent(question: str) -> str:\n",
    "    messages = [\n",
    "        SystemMessage(COT_SYSTEM_PROMPT),\n",
    "        HumanMessage(question)\n",
    "    ]\n",
    "    response = llm.invoke(messages)\n",
    "    return response.content\n",
    "\n",
    "# ▸ Quick smoke test\n",
    "print(cot_agent(\"If I have 7 apples and give away 3, how many remain?\"))"
   ]
  },
  {
   "cell_type": "markdown",
   "id": "352ddbaf-74a5-4375-806e-876b329aceea",
   "metadata": {},
   "source": [
    "## 2 ▸ ReAct recap (Thought → *Action* → Observation → Answer)\n",
    "\n",
    "ReAct extends CoT by letting the agent **call tools** inside its reasoning loop.\n",
    "\n",
    "<div style=\"text-align:center;\">\n",
    "    <img src=\"../assets/react.png\" width=\"50%\" height=\"50%\"/>\n",
    "</div>"
   ]
  },
  {
   "cell_type": "code",
   "execution_count": 8,
   "id": "40d3e240-2f47-46d9-97e7-de2612c6875f",
   "metadata": {},
   "outputs": [],
   "source": [
    "# %% ------------------------------------------------------------\n",
    "# 🔧 Build a richer tool belt for today's ReAct demo\n",
    "# --------------------------------------------------------------\n",
    "@tool\n",
    "def add(x: float, y: float) -> float:\n",
    "    \"\"\"Return x + y\"\"\"\n",
    "    return x + y\n",
    "\n",
    "@tool\n",
    "def multiply(x: float, y: float) -> float:\n",
    "    \"\"\"Return x * y\"\"\"\n",
    "    return x * y\n",
    "\n",
    "import wikipedia\n",
    "@tool\n",
    "def wiki(topic: str, sentences: int = 2) -> str:\n",
    "    \"\"\"Wikipedia summary\"\"\"\n",
    "    return wikipedia.summary(topic, sentences=sentences)\n",
    "\n",
    "TOOLS = [add, multiply, wiki]"
   ]
  },
  {
   "cell_type": "code",
   "execution_count": 11,
   "id": "1f9f2a07-03a4-4e3a-8cf2-21d3eff67185",
   "metadata": {},
   "outputs": [
    {
     "data": {
      "text/plain": [
       "{'messages': [HumanMessage(content='What is 8*12 and who designed the Eiffel Tower?', additional_kwargs={}, response_metadata={}, id='f21b82da-6d77-43bb-97d2-6b8a5c336a65'),\n",
       "  AIMessage(content='', additional_kwargs={'tool_calls': [{'id': 'call_kdyttyJtNbzOUo0KH0PQEzKV', 'function': {'arguments': '{\"x\": 8, \"y\": 12}', 'name': 'multiply'}, 'type': 'function'}, {'id': 'call_kzwnDNPLx0zh6Ma2bZyUJmDt', 'function': {'arguments': '{\"topic\": \"Eiffel Tower\", \"sentences\": 2}', 'name': 'wiki'}, 'type': 'function'}], 'refusal': None}, response_metadata={'token_usage': {'completion_tokens': 54, 'prompt_tokens': 108, 'total_tokens': 162, 'completion_tokens_details': {'accepted_prediction_tokens': 0, 'audio_tokens': 0, 'reasoning_tokens': 0, 'rejected_prediction_tokens': 0}, 'prompt_tokens_details': {'audio_tokens': 0, 'cached_tokens': 0}}, 'model_name': 'gpt-4o-mini-2024-07-18', 'system_fingerprint': 'fp_34a54ae93c', 'finish_reason': 'tool_calls', 'logprobs': None}, id='run--d1666114-4db7-41c7-b374-104d9fdcbc7a-0', tool_calls=[{'name': 'multiply', 'args': {'x': 8, 'y': 12}, 'id': 'call_kdyttyJtNbzOUo0KH0PQEzKV', 'type': 'tool_call'}, {'name': 'wiki', 'args': {'topic': 'Eiffel Tower', 'sentences': 2}, 'id': 'call_kzwnDNPLx0zh6Ma2bZyUJmDt', 'type': 'tool_call'}], usage_metadata={'input_tokens': 108, 'output_tokens': 54, 'total_tokens': 162, 'input_token_details': {'audio': 0, 'cache_read': 0}, 'output_token_details': {'audio': 0, 'reasoning': 0}}),\n",
       "  ToolMessage(content='96.0', name='multiply', id='76f2310e-2c7c-4a68-af02-732a2521c9ea', tool_call_id='call_kdyttyJtNbzOUo0KH0PQEzKV'),\n",
       "  ToolMessage(content='The Eiffel Tower (  EYE-fəl; French: Tour Eiffel [tuʁ ɛfɛl] ) is a wrought-iron lattice tower on the Champ de Mars in Paris, France. It is named after the engineer Gustave Eiffel, whose company designed and built the tower from 1887 to 1889.', name='wiki', id='69b9dc01-ed97-4849-91bf-e96b73e1e356', tool_call_id='call_kzwnDNPLx0zh6Ma2bZyUJmDt'),\n",
       "  AIMessage(content='The result of \\\\( 8 \\\\times 12 \\\\) is \\\\( 96 \\\\). \\n\\nThe Eiffel Tower is a wrought-iron lattice tower located on the Champ de Mars in Paris, France. It was designed and built by the engineer Gustave Eiffel and his company from 1887 to 1889.', additional_kwargs={'refusal': None}, response_metadata={'token_usage': {'completion_tokens': 64, 'prompt_tokens': 253, 'total_tokens': 317, 'completion_tokens_details': {'accepted_prediction_tokens': 0, 'audio_tokens': 0, 'reasoning_tokens': 0, 'rejected_prediction_tokens': 0}, 'prompt_tokens_details': {'audio_tokens': 0, 'cached_tokens': 0}}, 'model_name': 'gpt-4o-mini-2024-07-18', 'system_fingerprint': 'fp_34a54ae93c', 'finish_reason': 'stop', 'logprobs': None}, id='run--ba2e53f8-c322-4e00-9f33-8e3c05e37df5-0', usage_metadata={'input_tokens': 253, 'output_tokens': 64, 'total_tokens': 317, 'input_token_details': {'audio': 0, 'cache_read': 0}, 'output_token_details': {'audio': 0, 'reasoning': 0}})]}"
      ]
     },
     "execution_count": 11,
     "metadata": {},
     "output_type": "execute_result"
    }
   ],
   "source": [
    "# %% ------------------------------------------------------------\n",
    "# 🤖 Spin up a ReAct agent using LangGraph's helper\n",
    "# --------------------------------------------------------------\n",
    "react_agent = create_react_agent(\n",
    "    llm,\n",
    "    tools=TOOLS)\n",
    "\n",
    "react_agent.invoke({\"messages\": \"What is 8*12 and who designed the Eiffel Tower?\"})"
   ]
  },
  {
   "cell_type": "code",
   "execution_count": null,
   "id": "cb0f93bb-0586-4bb0-9d73-742dabc75084",
   "metadata": {},
   "outputs": [],
   "source": []
  }
 ],
 "metadata": {
  "kernelspec": {
   "display_name": "Python 3 (ipykernel)",
   "language": "python",
   "name": "python3"
  },
  "language_info": {
   "codemirror_mode": {
    "name": "ipython",
    "version": 3
   },
   "file_extension": ".py",
   "mimetype": "text/x-python",
   "name": "python",
   "nbconvert_exporter": "python",
   "pygments_lexer": "ipython3",
   "version": "3.13.2"
  }
 },
 "nbformat": 4,
 "nbformat_minor": 5
}
