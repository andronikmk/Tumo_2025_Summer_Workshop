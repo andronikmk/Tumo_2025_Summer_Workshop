{
 "cells": [
  {
   "cell_type": "markdown",
   "id": "da519ba4-1406-4b79-8e92-8e6a8f524c44",
   "metadata": {},
   "source": [
    "# Day 5: Workflows\n",
    "\n",
    "+ In this notebook, we are going to start learning about `workflows` using Langgraph.\n",
    "\n",
    ">Workflows are systems where LLMs and tools are orchestrated through predefined code paths. [Building effective agents](https://www.anthropic.com/engineering/building-effective-agents)"
   ]
  },
  {
   "cell_type": "markdown",
   "id": "36e6e20c-9693-4539-9935-e34b8b3d127a",
   "metadata": {},
   "source": [
    "### Step 1: Simple Workflow"
   ]
  },
  {
   "cell_type": "code",
   "execution_count": 1,
   "id": "19f0194f-1726-404d-93fa-5d6bfa18ae72",
   "metadata": {},
   "outputs": [],
   "source": [
    "from typing import Annotated\n",
    "\n",
    "from typing_extensions import TypedDict\n",
    "\n",
    "from langgraph.graph import StateGraph, START, END\n",
    "from langgraph.graph.message import add_messages\n",
    "\n",
    "from IPython.display import Image, display"
   ]
  },
  {
   "cell_type": "code",
   "execution_count": 14,
   "id": "7cbcd86d-aed2-4cb5-9867-b41e97aded8f",
   "metadata": {},
   "outputs": [],
   "source": [
    "class State(TypedDict):\n",
    "    messages: str\n",
    "    name: str\n",
    "    my_input: str"
   ]
  },
  {
   "cell_type": "code",
   "execution_count": 15,
   "id": "dd8c11b0-fc44-4486-b414-90fe17f1c494",
   "metadata": {},
   "outputs": [],
   "source": [
    "def my_first_node(state: State):    \n",
    "    \n",
    "    state[\"messages\"] = \"Hello, \" + state[\"name\"] + \".\"\n",
    "    \n",
    "    return {\"messages\": state[\"messages\"]}\n",
    "\n",
    "def my_second_node(state: State):\n",
    "    \n",
    "    state[\"messages\"] += \" \" + state[\"my_input\"]\n",
    "    \n",
    "    return {\"messages\": state[\"messages\"]}"
   ]
  },
  {
   "cell_type": "code",
   "execution_count": 16,
   "id": "10e3cf43-4187-442e-8330-cbda9031c76a",
   "metadata": {},
   "outputs": [],
   "source": [
    "build = StateGraph(State)"
   ]
  },
  {
   "cell_type": "code",
   "execution_count": 17,
   "id": "69432d7b-c297-48ff-a222-b9f505b4aa8a",
   "metadata": {},
   "outputs": [],
   "source": [
    "build.add_node(\"my_first_node\", my_first_node)\n",
    "build.add_node(\"my_second_node\", my_second_node)\n",
    "\n",
    "build.add_edge(START, \"my_first_node\")\n",
    "build.add_edge(\"my_first_node\", \"my_second_node\")\n",
    "build.add_edge(\"my_second_node\", END)\n",
    "\n",
    "graph = build.compile()"
   ]
  },
  {
   "cell_type": "code",
   "execution_count": 18,
   "id": "175f8910-6c83-46fe-b189-349418f3c4dc",
   "metadata": {},
   "outputs": [
    {
     "data": {
      "image/png": "[encoded data removed]",
      "text/plain": [
       "<IPython.core.display.Image object>"
      ]
     },
     "metadata": {},
     "output_type": "display_data"
    }
   ],
   "source": [
    "display(Image(graph.get_graph().draw_mermaid_png()))"
   ]
  },
  {
   "cell_type": "code",
   "execution_count": 19,
   "id": "519a2a3b-5a93-4f57-985c-28f078d18fe2",
   "metadata": {},
   "outputs": [
    {
     "data": {
      "text/plain": [
       "{'messages': 'Hello, Andronik. What can I help you with?',\n",
       " 'name': 'Andronik',\n",
       " 'my_input': 'What can I help you with?'}"
      ]
     },
     "execution_count": 19,
     "metadata": {},
     "output_type": "execute_result"
    }
   ],
   "source": [
    "graph.invoke({\"name\":\"Andronik\", \"my_input\": \"What can I help you with?\"})"
   ]
  },
  {
   "cell_type": "markdown",
   "id": "868f41a4-8aef-4c15-af6e-b5312ea77419",
   "metadata": {},
   "source": [
    "### Step 2: Workflow"
   ]
  },
  {
   "cell_type": "code",
   "execution_count": 20,
   "id": "1ca50c53-1940-4bf4-9a56-092423a9f4e4",
   "metadata": {},
   "outputs": [],
   "source": [
    "class State(TypedDict):\n",
    "    messages: str"
   ]
  },
  {
   "cell_type": "code",
   "execution_count": 26,
   "id": "8a319ec0-5265-4db5-9c5c-e3506aec16de",
   "metadata": {},
   "outputs": [],
   "source": [
    "def to_upper(state: State) -> State:\n",
    "    \"\"\"Node 1 – make the string uppercase.\"\"\"\n",
    "\n",
    "    state[\"messages\"] = state[\"messages\"].upper()\n",
    "    \n",
    "    return {\"messages\": state[\"messages\"]}\n",
    "\n",
    "def reverse_text(state: State) -> State:\n",
    "    \"\"\"Node 2 – reverse the characters.\"\"\"\n",
    "\n",
    "    state[\"messages\"] = state[\"messages\"][::-1]\n",
    "    \n",
    "    return {\"messages\": state[\"messages\"]}\n",
    "\n",
    "def add_suffix(state: State) -> State:\n",
    "    \"\"\"Node 3 – add a friendly suffix and finish.\"\"\"\n",
    "    \n",
    "    state[\"messages\"] = state[\"messages\"] + \" 🤖\"\n",
    "    \n",
    "    return {\"messages\": state[\"messages\"]}"
   ]
  },
  {
   "cell_type": "code",
   "execution_count": 29,
   "id": "9d5da936-4198-4d9c-86e2-f3c3e13a0df1",
   "metadata": {},
   "outputs": [],
   "source": [
    "workflow = StateGraph(State)\n",
    "\n",
    "workflow.add_node(\"uppercase\", to_upper)\n",
    "workflow.add_node(\"reverse\",   reverse_text)\n",
    "workflow.add_node(\"suffix\",    add_suffix)\n",
    "\n",
    "workflow.add_edge(\"uppercase\", \"reverse\")\n",
    "workflow.add_edge(\"reverse\",   \"suffix\")\n",
    "workflow.add_edge(START, \"uppercase\")\n",
    "workflow.add_edge(\"suffix\", END)\n",
    "\n",
    "graph = workflow.compile()"
   ]
  },
  {
   "cell_type": "code",
   "execution_count": 30,
   "id": "e708c02a-6835-43b0-9b77-e5d81dd727f1",
   "metadata": {},
   "outputs": [
    {
     "data": {
      "image/png": "[encoded data removed]",
      "text/plain": [
       "<IPython.core.display.Image object>"
      ]
     },
     "metadata": {},
     "output_type": "display_data"
    }
   ],
   "source": [
    "display(Image(graph.get_graph().draw_mermaid_png()))"
   ]
  },
  {
   "cell_type": "code",
   "execution_count": 31,
   "id": "7b68b1ab-eb3d-4e68-80f7-6b83584c5c7d",
   "metadata": {},
   "outputs": [
    {
     "data": {
      "text/plain": [
       "{'messages': 'KINORDNA 🤖'}"
      ]
     },
     "execution_count": 31,
     "metadata": {},
     "output_type": "execute_result"
    }
   ],
   "source": [
    "graph.invoke({\"messages\":\"Andronik\"})"
   ]
  },
  {
   "cell_type": "markdown",
   "id": "08e2dc02-5151-45eb-ae87-33cc9f230443",
   "metadata": {},
   "source": [
    "### Step 3: Conditional Edges"
   ]
  },
  {
   "cell_type": "code",
   "execution_count": null,
   "id": "0fb04d63-b822-473c-b596-c9684a8839d0",
   "metadata": {},
   "outputs": [],
   "source": []
  }
 ],
 "metadata": {
  "kernelspec": {
   "display_name": "tumo-2025-summer-workshop",
   "language": "python",
   "name": "tumo-2025-summer-workshop"
  },
  "language_info": {
   "codemirror_mode": {
    "name": "ipython",
    "version": 3
   },
   "file_extension": ".py",
   "mimetype": "text/x-python",
   "name": "python",
   "nbconvert_exporter": "python",
   "pygments_lexer": "ipython3",
   "version": "3.13.2"
  }
 },
 "nbformat": 4,
 "nbformat_minor": 5
}
