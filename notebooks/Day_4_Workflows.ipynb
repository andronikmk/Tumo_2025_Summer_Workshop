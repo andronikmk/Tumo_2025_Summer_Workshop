{
 "cells": [
  {
   "cell_type": "markdown",
   "id": "da519ba4-1406-4b79-8e92-8e6a8f524c44",
   "metadata": {},
   "source": [
    "# Day 5: Workflows\n",
    "\n",
    "+ In this notebook, we are going to start learning about `workflows` using Langgraph.\n",
    "\n",
    ">Workflows are systems where LLMs and tools are orchestrated through predefined code paths. [Building effective agents](https://www.anthropic.com/engineering/building-effective-agents)\n",
    "\n",
    "What this means is that unlike Agents. Workflows are specific step-by-step instructions of how you intend the LLM to execute your pipeline."
   ]
  },
  {
   "cell_type": "markdown",
   "id": "36e6e20c-9693-4539-9935-e34b8b3d127a",
   "metadata": {},
   "source": [
    "### Step 1: Simple Workflow"
   ]
  },
  {
   "cell_type": "code",
   "execution_count": 1,
   "id": "19f0194f-1726-404d-93fa-5d6bfa18ae72",
   "metadata": {},
   "outputs": [
    {
     "data": {
      "text/plain": [
       "True"
      ]
     },
     "execution_count": 1,
     "metadata": {},
     "output_type": "execute_result"
    }
   ],
   "source": [
    "import os\n",
    "from typing import Annotated\n",
    "from pydantic import BaseModel\n",
    "from typing import Literal\n",
    "from typing_extensions import TypedDict\n",
    "\n",
    "from langgraph.graph import StateGraph, START, END\n",
    "from langgraph.graph.message import add_messages\n",
    "from langchain_openai import ChatOpenAI\n",
    "from langchain_core.tools import tool\n",
    "from langgraph.prebuilt import create_react_agent\n",
    "from langchain_chroma import Chroma\n",
    "from langchain_openai import OpenAIEmbeddings\n",
    "\n",
    "from IPython.display import Image, display\n",
    "\n",
    "from dotenv import load_dotenv\n",
    "load_dotenv()"
   ]
  },
  {
   "cell_type": "code",
   "execution_count": 21,
   "id": "032566eb-9519-44da-a94a-d27d9d482562",
   "metadata": {},
   "outputs": [],
   "source": [
    "openai_api_key = os.environ.get(\"OPENAI_API_KEY\")\n",
    "openai_organization = os.environ.get(\"OPENAI_ORGANIZATION\")\n",
    "tavily_api_key = os.environ.get(\"TAVILY_API_KEY\")"
   ]
  },
  {
   "cell_type": "code",
   "execution_count": 3,
   "id": "7cbcd86d-aed2-4cb5-9867-b41e97aded8f",
   "metadata": {},
   "outputs": [],
   "source": [
    "class State(TypedDict):\n",
    "    messages: str\n",
    "    name: str\n",
    "    my_input: str"
   ]
  },
  {
   "cell_type": "code",
   "execution_count": 4,
   "id": "dd8c11b0-fc44-4486-b414-90fe17f1c494",
   "metadata": {},
   "outputs": [],
   "source": [
    "def my_first_node(state: State):    \n",
    "    \n",
    "    state[\"messages\"] = \"Hello, \" + state[\"name\"] + \".\"\n",
    "    \n",
    "    return {\"messages\": state[\"messages\"]}\n",
    "\n",
    "def my_second_node(state: State):\n",
    "    \n",
    "    state[\"messages\"] += \" \" + state[\"my_input\"]\n",
    "    \n",
    "    return {\"messages\": state[\"messages\"]}"
   ]
  },
  {
   "cell_type": "code",
   "execution_count": 5,
   "id": "69432d7b-c297-48ff-a222-b9f505b4aa8a",
   "metadata": {},
   "outputs": [],
   "source": [
    "workflow_1 = StateGraph(State)\n",
    "\n",
    "workflow_1.add_node(\"my_first_node\", my_first_node)\n",
    "workflow_1.add_node(\"my_second_node\", my_second_node)\n",
    "\n",
    "workflow_1.add_edge(START, \"my_first_node\")\n",
    "workflow_1.add_edge(\"my_first_node\", \"my_second_node\")\n",
    "workflow_1.add_edge(\"my_second_node\", END)\n",
    "\n",
    "graph = workflow_1.compile()"
   ]
  },
  {
   "cell_type": "code",
   "execution_count": 6,
   "id": "175f8910-6c83-46fe-b189-349418f3c4dc",
   "metadata": {},
   "outputs": [
    {
     "data": {
      "image/png": "[encoded data removed]",
      "text/plain": [
       "<IPython.core.display.Image object>"
      ]
     },
     "metadata": {},
     "output_type": "display_data"
    }
   ],
   "source": [
    "display(Image(graph.get_graph().draw_mermaid_png()))"
   ]
  },
  {
   "cell_type": "code",
   "execution_count": 7,
   "id": "519a2a3b-5a93-4f57-985c-28f078d18fe2",
   "metadata": {},
   "outputs": [
    {
     "data": {
      "text/plain": [
       "{'messages': 'Hello, Andronik. What can I help you with?',\n",
       " 'name': 'Andronik',\n",
       " 'my_input': 'What can I help you with?'}"
      ]
     },
     "execution_count": 7,
     "metadata": {},
     "output_type": "execute_result"
    }
   ],
   "source": [
    "graph.invoke({\"name\":\"Andronik\", \"my_input\": \"What can I help you with?\"})"
   ]
  },
  {
   "cell_type": "markdown",
   "id": "868f41a4-8aef-4c15-af6e-b5312ea77419",
   "metadata": {},
   "source": [
    "### Step 2: Workflow"
   ]
  },
  {
   "cell_type": "code",
   "execution_count": 8,
   "id": "1ca50c53-1940-4bf4-9a56-092423a9f4e4",
   "metadata": {},
   "outputs": [],
   "source": [
    "class State(TypedDict):\n",
    "    messages: str"
   ]
  },
  {
   "cell_type": "code",
   "execution_count": 9,
   "id": "8a319ec0-5265-4db5-9c5c-e3506aec16de",
   "metadata": {},
   "outputs": [],
   "source": [
    "def to_upper(state: State) -> State:\n",
    "    \"\"\"Node 1 – make the string uppercase.\"\"\"\n",
    "\n",
    "    state[\"messages\"] = state[\"messages\"].upper()\n",
    "    \n",
    "    return {\"messages\": state[\"messages\"]}\n",
    "\n",
    "def reverse_text(state: State) -> State:\n",
    "    \"\"\"Node 2 – reverse the characters.\"\"\"\n",
    "\n",
    "    state[\"messages\"] = state[\"messages\"][::-1]\n",
    "    \n",
    "    return {\"messages\": state[\"messages\"]}\n",
    "\n",
    "def add_suffix(state: State) -> State:\n",
    "    \"\"\"Node 3 – add a friendly suffix and finish.\"\"\"\n",
    "    \n",
    "    state[\"messages\"] = state[\"messages\"] + \" 🤖\"\n",
    "    \n",
    "    return {\"messages\": state[\"messages\"]}"
   ]
  },
  {
   "cell_type": "code",
   "execution_count": 10,
   "id": "9d5da936-4198-4d9c-86e2-f3c3e13a0df1",
   "metadata": {},
   "outputs": [],
   "source": [
    "workflow_2 = StateGraph(State)\n",
    "\n",
    "workflow_2.add_node(\"uppercase\", to_upper)\n",
    "workflow_2.add_node(\"reverse\",   reverse_text)\n",
    "workflow_2.add_node(\"suffix\",    add_suffix)\n",
    "\n",
    "workflow_2.add_edge(\"uppercase\", \"reverse\")\n",
    "workflow_2.add_edge(\"reverse\",   \"suffix\")\n",
    "workflow_2.add_edge(START, \"uppercase\")\n",
    "workflow_2.add_edge(\"suffix\", END)\n",
    "\n",
    "graph = workflow_2.compile()"
   ]
  },
  {
   "cell_type": "code",
   "execution_count": 11,
   "id": "e708c02a-6835-43b0-9b77-e5d81dd727f1",
   "metadata": {},
   "outputs": [
    {
     "data": {
      "image/png": "[encoded data removed]",
      "text/plain": [
       "<IPython.core.display.Image object>"
      ]
     },
     "metadata": {},
     "output_type": "display_data"
    }
   ],
   "source": [
    "display(Image(graph.get_graph().draw_mermaid_png()))"
   ]
  },
  {
   "cell_type": "code",
   "execution_count": 12,
   "id": "7b68b1ab-eb3d-4e68-80f7-6b83584c5c7d",
   "metadata": {},
   "outputs": [
    {
     "data": {
      "text/plain": [
       "{'messages': 'KINORDNA 🤖'}"
      ]
     },
     "execution_count": 12,
     "metadata": {},
     "output_type": "execute_result"
    }
   ],
   "source": [
    "graph.invoke({\"messages\":\"Andronik\"})"
   ]
  },
  {
   "cell_type": "markdown",
   "id": "08e2dc02-5151-45eb-ae87-33cc9f230443",
   "metadata": {},
   "source": [
    "### Step 3: Conditional Edges"
   ]
  },
  {
   "cell_type": "code",
   "execution_count": 13,
   "id": "d02a2245-217f-4732-b639-e5d474d5be26",
   "metadata": {},
   "outputs": [],
   "source": [
    "class QuestionClassification(BaseModel):\n",
    "    classification: Literal[1, 2, 3]\n",
    "    reasoning: str"
   ]
  },
  {
   "cell_type": "code",
   "execution_count": 14,
   "id": "300360e5-5894-4627-9529-3bdaa2772b6f",
   "metadata": {},
   "outputs": [],
   "source": [
    "class State(TypedDict):\n",
    "    question: str\n",
    "    classification: int\n",
    "    answer: str"
   ]
  },
  {
   "cell_type": "code",
   "execution_count": 22,
   "id": "0fb04d63-b822-473c-b596-c9684a8839d0",
   "metadata": {},
   "outputs": [],
   "source": [
    "def question_classification(state: State) -> State:\n",
    "    llm = ChatOpenAI(\n",
    "        openai_api_key=openai_api_key, \n",
    "        openai_organization=openai_organization,\n",
    "        model=\"gpt-4o-mini\"\n",
    "    )\n",
    "    \n",
    "    structured_llm = llm.with_structured_output(QuestionClassification)\n",
    "    \n",
    "    question = state[\"question\"]\n",
    "    \n",
    "    prompt = f\"\"\"\n",
    "    Classify the following question into one of three categories:\n",
    "    1 - Calculator/Math: Questions requiring mathematical calculations\n",
    "    2 - RAG: Questions that need information retrieval from documents/knowledge base\n",
    "    3 - Search: Questions requiring web search or current information\n",
    "    \n",
    "    Question: {question}\n",
    "    \n",
    "    Provide your classification as a number (1, 2, or 3) and brief reasoning.\n",
    "    \"\"\"\n",
    "    \n",
    "    result = structured_llm.invoke(prompt)\n",
    "\n",
    "    state[\"classification\"] = result.classification\n",
    "    \n",
    "    return {\"question\": question, \"classification\": state[\"classification\"]}\n",
    "\n",
    "\n",
    "def routing_function(state: State) -> Literal[\"Calculator_Func\", \"RAG_Func\", \"Search_Func\"]:\n",
    "\n",
    "    if state[\"classification\"] == 1:\n",
    "        return \"Calculator_Func\"\n",
    "    \n",
    "    if state[\"classification\"] == 2:\n",
    "        return \"RAG_Func\"\n",
    "    \n",
    "    if state[\"classification\"] == 3:\n",
    "        return \"Search_Func\"\n",
    "    \n",
    "    return \"Search_Func\"\n",
    "\n",
    "# Tools -----------------------------------------------------------------------------\n",
    "@tool\n",
    "def addition(x: int, y: int) -> int:\n",
    "    \"\"\"This function is used to add two numbers together and return the result\"\"\"\n",
    "    return x + y\n",
    "\n",
    "@tool\n",
    "def vector_search(question: str) -> str:\n",
    "    \"\"\" Function whenever a user is asking about querying my first database \"\"\"\n",
    "    embeddings = OpenAIEmbeddings(openai_api_key=openai_api_key,\n",
    "                                  model=\"text-embedding-3-large\",\n",
    "                                  chunk_size=1000)\n",
    "    \n",
    "    vector_store = Chroma(collection_name=\"tumo_2025\",\n",
    "                          embedding_function=embeddings,\n",
    "                          persist_directory=\"/Users/andronikmk/Documents/Tumo_2025_Summer_Workshop/db/my_first_vdb\")\n",
    "    \n",
    "    retriever = vector_store.as_retriever(search_kwargs={\"k\": 10})\n",
    "    \n",
    "    return retriever.invoke(question)\n",
    "\n",
    "# -----------------------------------------------------------------------------------\n",
    "\n",
    "def calculator(state: State) -> State:\n",
    "    \n",
    "    llm = ChatOpenAI(openai_api_key = openai_api_key, \n",
    "                     openai_organization = openai_organization,\n",
    "                     model = \"gpt-4o-mini\")\n",
    "\n",
    "    tools = [addition]\n",
    "    \n",
    "    agent = create_react_agent(llm, tools=tools)\n",
    "\n",
    "    response = agent.invoke({\"messages\": state[\"question\"]})\n",
    "\n",
    "    state[\"answer\"] = response[\"messages\"][-1].content\n",
    "    return {\"answer\": state[\"answer\"]}\n",
    "\n",
    "def rag(state: State) -> State:\n",
    "    \n",
    "    llm = ChatOpenAI(openai_api_key = openai_api_key, \n",
    "                     openai_organization = openai_organization,\n",
    "                     model = \"gpt-4o-mini\")\n",
    "\n",
    "    tools = [vector_search]\n",
    "    \n",
    "    agent = create_react_agent(llm, tools=tools)\n",
    "\n",
    "    response = agent.invoke({\"messages\": state[\"question\"]})\n",
    "\n",
    "    state[\"answer\"] = response[\"messages\"][-1].content\n",
    "    \n",
    "    return {\"answer\": state[\"answer\"]}\n",
    "\n",
    "def search(state: State) -> State:\n",
    "    \n",
    "    os.environ[\"TAVILY_API_KEY\"] = tavily_api_key\n",
    "\n",
    "    tavily_search = TavilySearch(max_results=5,\n",
    "                        topic=\"general\")\n",
    "\n",
    "    tools = [tavily_search]\n",
    "\n",
    "    llm = ChatOpenAI(openai_api_key = openai_api_key, \n",
    "                     openai_organization = openai_organization,\n",
    "                     model = \"gpt-4o-mini\")\n",
    "    \n",
    "    agent = create_react_agent(llm, tools)\n",
    "\n",
    "    response = agent.invoke({\"messages\": state[\"question\"]})\n",
    "\n",
    "    state[\"answer\"] = response[\"messages\"][-1].content\n",
    "\n",
    "    return {\"answer\": state[\"answer\"]}"
   ]
  },
  {
   "cell_type": "code",
   "execution_count": 23,
   "id": "ae6b25f4-9362-4d99-b3e3-f29e47b2901b",
   "metadata": {},
   "outputs": [
    {
     "data": {
      "image/png": "[encoded data removed]",
      "text/plain": [
       "<IPython.core.display.Image object>"
      ]
     },
     "metadata": {},
     "output_type": "display_data"
    }
   ],
   "source": [
    "workflow_3 = StateGraph(State)\n",
    "\n",
    "workflow_3.add_node(\"question_classification\", question_classification)\n",
    "\n",
    "workflow_3.add_node(\"Calculator_Func\", calculator)\n",
    "workflow_3.add_node(\"RAG_Func\", rag)\n",
    "workflow_3.add_node(\"Search_Func\", search)\n",
    "\n",
    "workflow_3.add_edge(START, \"question_classification\")\n",
    "workflow_3.add_conditional_edges(\"question_classification\", routing_function)\n",
    "\n",
    "graph = workflow_3.compile()\n",
    "\n",
    "display(Image(graph.get_graph().draw_mermaid_png()))"
   ]
  },
  {
   "cell_type": "code",
   "execution_count": 24,
   "id": "a9c331b1-2acf-496a-9352-56ab5aac30b0",
   "metadata": {},
   "outputs": [
    {
     "data": {
      "text/plain": [
       "{'question': 'Did Novak win his match at the french open today?',\n",
       " 'classification': 3,\n",
       " 'answer': 'Yes, Novak Djokovic won his match today at the French Open. He defeated Alexander Zverev with a score of 4-6, 6-3, 6-2, 6-4, advancing to the semifinals where he is set to face Jannik Sinner. You can read more about the match [here](https://www.espn.com/tennis/story/_/id/45452455/novak-djokovic-outlasts-alexander-zverev-reach-french-open-semis).'}"
      ]
     },
     "execution_count": 24,
     "metadata": {},
     "output_type": "execute_result"
    }
   ],
   "source": [
    "graph.invoke({\"question\":\"Did Novak win his match at the french open today?\"})"
   ]
  },
  {
   "cell_type": "markdown",
   "id": "23c8688c-e47c-4d4a-a3e3-1af548f72db2",
   "metadata": {},
   "source": [
    "## 🛠️ Hands-On Activity 4 – Build a Smart Router Workflow\n",
    "\n",
    "In this mini-project you will create a workflow that:\n",
    "1. **Classifies** the user’s question as either **“math”** (needs calculation) or **“wiki”** (needs a factual lookup).  \n",
    "2. **Routes** to the correct tool branch:  \n",
    "   * **Calculator Node** → evaluates the expression and returns the result.  \n",
    "   * **Wiki Node** → uses an LLM to produce a concise encyclopedic answer.  \n",
    "3. **Returns** the final answer back to the user.\n",
    "\n",
    "You’ll practice:\n",
    "* Writing LangGraph nodes\n",
    "* Conditional edges\n",
    "* Combining deterministic Python logic with an LLM call"
   ]
  },
  {
   "cell_type": "code",
   "execution_count": null,
   "id": "7c093640-42c0-4eef-8669-8118e208af56",
   "metadata": {},
   "outputs": [],
   "source": []
  }
 ],
 "metadata": {
  "kernelspec": {
   "display_name": "tumo-2025-summer-workshop",
   "language": "python",
   "name": "tumo-2025-summer-workshop"
  },
  "language_info": {
   "codemirror_mode": {
    "name": "ipython",
    "version": 3
   },
   "file_extension": ".py",
   "mimetype": "text/x-python",
   "name": "python",
   "nbconvert_exporter": "python",
   "pygments_lexer": "ipython3",
   "version": "3.13.2"
  }
 },
 "nbformat": 4,
 "nbformat_minor": 5
}
