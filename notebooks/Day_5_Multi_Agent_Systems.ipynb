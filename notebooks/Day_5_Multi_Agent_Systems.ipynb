{
 "cells": [
  {
   "cell_type": "markdown",
   "id": "b566fa18-48d3-45d6-ab70-43fd4740c51e",
   "metadata": {},
   "source": [
    "# Day 5: Multi-Agent Systems\n",
    "\n",
    "Now that we have talked about single agents and workflows. Let's start to build more complex systems that use multiople agents to perform a task and communicate with one another. \n",
    "\n",
    "\n",
    "+ https://langchain-ai.github.io/langgraph/concepts/multi_agent/"
   ]
  },
  {
   "cell_type": "code",
   "execution_count": null,
   "id": "fab9b717-c863-4c9a-9039-a81aeadcdac0",
   "metadata": {},
   "outputs": [],
   "source": []
  }
 ],
 "metadata": {
  "kernelspec": {
   "display_name": "Python 3 (ipykernel)",
   "language": "python",
   "name": "python3"
  },
  "language_info": {
   "codemirror_mode": {
    "name": "ipython",
    "version": 3
   },
   "file_extension": ".py",
   "mimetype": "text/x-python",
   "name": "python",
   "nbconvert_exporter": "python",
   "pygments_lexer": "ipython3",
   "version": "3.13.2"
  }
 },
 "nbformat": 4,
 "nbformat_minor": 5
}
