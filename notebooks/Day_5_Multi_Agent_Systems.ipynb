{
 "cells": [
  {
   "cell_type": "markdown",
   "id": "b566fa18-48d3-45d6-ab70-43fd4740c51e",
   "metadata": {},
   "source": [
    "# Day 5: Agents & Multi-Agent Systems (MAS)\n",
    "\n",
    "**Goal for today**\n",
    "\n",
    "| 🔍 Topic | 📚 What you’ll learn | 🛠️ Hands-on |\n",
    "|----------|----------------------|-------------|\n",
    "| Agents recap | How an agent decides when to call a *tool* | Build a fresh tool and plug it into a ReAct agent |\n",
    "| Multi-Agent Systems | Why multiple specialized agents can outperform one big agent | Assemble two specialized agents + a router into a simple MAS graph |\n",
    "| Project proposals | Form teams and sketch your capstone idea | Pitch in a 2-slide deck or whiteboard |\n",
    "\n",
    "> **Skill level:** beginner ➜ intermediate Python  \n",
    "> **Prereqs:** Day 3 (single agents) & Day 4 (LangGraph workflows)\n",
    "\n",
    "\n",
    "\n",
    "+ https://langchain-ai.github.io/langgraph/concepts/multi_agent/"
   ]
  },
  {
   "cell_type": "code",
   "execution_count": 16,
   "id": "fab9b717-c863-4c9a-9039-a81aeadcdac0",
   "metadata": {},
   "outputs": [],
   "source": [
    "# ------------------------------------------------------------\n",
    "# ⚙️ Cell: Install / Imports (run once at the top of Colab/Jupyter)\n",
    "# ------------------------------------------------------------\n",
    "# !pip install langgraph langchain-openai python-dotenv wikipedia rich --quiet\n",
    "\n",
    "import os\n",
    "from dotenv import load_dotenv\n",
    "load_dotenv()                               # make sure your .env has OPENAI_API_KEY / OPENAI_ORGANIZATION\n",
    "\n",
    "from typing import TypedDict, Literal\n",
    "from pydantic import BaseModel\n",
    "from langchain_openai import ChatOpenAI\n",
    "from langchain_core.tools import tool\n",
    "from langgraph.prebuilt import create_react_agent\n",
    "from langgraph.graph import END, START, StateGraph\n",
    "from IPython.display import Image, Markdown"
   ]
  },
  {
   "cell_type": "code",
   "execution_count": 2,
   "id": "a7e3a9f8-fddb-4473-bf3b-1f0177daabea",
   "metadata": {},
   "outputs": [
    {
     "name": "stdout",
     "output_type": "stream",
     "text": [
      "✅ LLM ready ✔︎\n"
     ]
    }
   ],
   "source": [
    "# Choose a small, inexpensive model for demos. Feel free to swap later.\n",
    "OPENAI_API_KEY = os.environ.get(\"OPENAI_API_KEY\")\n",
    "OPENAI_ORGANIZATION = os.environ.get(\"OPENAI_ORGANIZATION\")\n",
    "LLM = ChatOpenAI(\n",
    "    model=\"gpt-4o-mini\",\n",
    "    openai_api_key=OPENAI_API_KEY,\n",
    "    openai_organization=OPENAI_ORGANIZATION,\n",
    "    temperature=0\n",
    ")\n",
    "print(\"✅ LLM ready ✔︎\")"
   ]
  },
  {
   "cell_type": "markdown",
   "id": "9edccc2e-749d-49cb-abfc-afff4d8340af",
   "metadata": {},
   "source": [
    "## 1 ⟶ Quick recap: What is an *Agent*?\n",
    "\n",
    "* An **agent** is an LLM wrapped in decision-making logic.  \n",
    "* It inspects the user question → decides whether to answer directly or call a **tool**.  \n",
    "* Tools are just normal Python functions registered with the `@tool` decorator.\n",
    "\n",
    "### Where MAS fits in\n",
    "\n",
    "| Single agent | Multi-Agent System |\n",
    "|--------------|-------------------|\n",
    "| One toolbelt, one reasoning loop | Several *specialist* agents + *coordinator* |\n",
    "| Good for simple tasks | Scales to complex, multi-step workflows |\n"
   ]
  },
  {
   "cell_type": "code",
   "execution_count": 6,
   "id": "2b8aadbb-f6d0-4ca5-aad2-68b08602fcc1",
   "metadata": {},
   "outputs": [],
   "source": [
    "# -----------------------------------------------------------------\n",
    "# 🛠️ Cell: Build our first *new* tool of the day – a unit converter\n",
    "# -----------------------------------------------------------------\n",
    "@tool\n",
    "def celsius_to_fahrenheit(c: float) -> str:\n",
    "    \"\"\"\n",
    "    Convert °C to °F and explain the formula.\n",
    "    \"\"\"\n",
    "    f = (c * 9/5) + 32\n",
    "    return f\"{c}°C is {f:.1f}°F.  (Formula: F = C × 9/5 + 32)\""
   ]
  },
  {
   "cell_type": "markdown",
   "id": "151f090a-e04c-4dd2-bb79-91bed807bbc7",
   "metadata": {},
   "source": [
    "## Step 2: Single-Agent refresher (ReAct pattern)\n",
    "\n",
    "The ReAct agent thinks *step-by-step* (just like on Day 3) using **Thought → Action → Observation → Answer**.\n"
   ]
  },
  {
   "cell_type": "code",
   "execution_count": 8,
   "id": "97c160ef-8fc6-4a02-bc69-7134337bc639",
   "metadata": {},
   "outputs": [
    {
     "data": {
      "text/plain": [
       "{'messages': [HumanMessage(content='Convert 25 Celsius to Fahrenheit, please', additional_kwargs={}, response_metadata={}, id='3771bf07-1a4d-4b59-8ad0-ac9030186774'),\n",
       "  AIMessage(content='', additional_kwargs={'tool_calls': [{'id': 'call_xMF9qwGevr2vTJ0SnUagPXRe', 'function': {'arguments': '{\"c\":25}', 'name': 'celsius_to_fahrenheit'}, 'type': 'function'}], 'refusal': None}, response_metadata={'token_usage': {'completion_tokens': 17, 'prompt_tokens': 59, 'total_tokens': 76, 'completion_tokens_details': {'accepted_prediction_tokens': 0, 'audio_tokens': 0, 'reasoning_tokens': 0, 'rejected_prediction_tokens': 0}, 'prompt_tokens_details': {'audio_tokens': 0, 'cached_tokens': 0}}, 'model_name': 'gpt-4o-mini-2024-07-18', 'system_fingerprint': 'fp_62a23a81ef', 'finish_reason': 'tool_calls', 'logprobs': None}, id='run--2d877195-a077-467d-b87e-5aa5b95bb30a-0', tool_calls=[{'name': 'celsius_to_fahrenheit', 'args': {'c': 25}, 'id': 'call_xMF9qwGevr2vTJ0SnUagPXRe', 'type': 'tool_call'}], usage_metadata={'input_tokens': 59, 'output_tokens': 17, 'total_tokens': 76, 'input_token_details': {'audio': 0, 'cache_read': 0}, 'output_token_details': {'audio': 0, 'reasoning': 0}}),\n",
       "  ToolMessage(content='25.0°C is 77.0°F.  (Formula: F = C × 9/5 + 32)', name='celsius_to_fahrenheit', id='aa7e1bfa-ad58-415e-8c6f-6065ed1a9b8e', tool_call_id='call_xMF9qwGevr2vTJ0SnUagPXRe'),\n",
       "  AIMessage(content='25°C is equal to 77°F. The formula used for the conversion is: \\n\\n\\\\[ F = C \\\\times \\\\frac{9}{5} + 32 \\\\] \\n\\nwhere \\\\( F \\\\) is the temperature in Fahrenheit and \\\\( C \\\\) is the temperature in Celsius.', additional_kwargs={'refusal': None}, response_metadata={'token_usage': {'completion_tokens': 59, 'prompt_tokens': 114, 'total_tokens': 173, 'completion_tokens_details': {'accepted_prediction_tokens': 0, 'audio_tokens': 0, 'reasoning_tokens': 0, 'rejected_prediction_tokens': 0}, 'prompt_tokens_details': {'audio_tokens': 0, 'cached_tokens': 0}}, 'model_name': 'gpt-4o-mini-2024-07-18', 'system_fingerprint': 'fp_62a23a81ef', 'finish_reason': 'stop', 'logprobs': None}, id='run--648fc8f1-964b-411e-ad02-ae5a4250dd13-0', usage_metadata={'input_tokens': 114, 'output_tokens': 59, 'total_tokens': 173, 'input_token_details': {'audio': 0, 'cache_read': 0}, 'output_token_details': {'audio': 0, 'reasoning': 0}})]}"
      ]
     },
     "execution_count": 8,
     "metadata": {},
     "output_type": "execute_result"
    }
   ],
   "source": [
    "# ------------------------------------------------------------\n",
    "# 🤖 Cell: Build a quick single agent with the new converter tool\n",
    "# ------------------------------------------------------------\n",
    "tools   = [celsius_to_fahrenheit]\n",
    "react_agent = create_react_agent(LLM, tools)\n",
    "\n",
    "react_agent.invoke({\"messages\": \"Convert 25 Celsius to Fahrenheit, please\"})"
   ]
  },
  {
   "cell_type": "markdown",
   "id": "3b37eec8-145d-4dcf-98db-52ef606b6959",
   "metadata": {},
   "source": [
    "## Step 3: Designing a Multi-Agent System\n",
    "\n",
    "We’ll create **two specialists**:\n",
    "\n",
    "1. **MathAgent** – handles arithmetic with a calculator tool  \n",
    "2. **WikiAgent** – fetches short Wikipedia summaries with a wiki tool  \n",
    "\n",
    "A **Router** node (also an LLM) will read the user’s question and decide *which* specialist to send it to.  \n",
    "Finally, a **Gather** node simply forwards the chosen agent’s answer back to the user."
   ]
  },
  {
   "cell_type": "code",
   "execution_count": 11,
   "id": "f13b5855-36b1-42e1-9b3c-3c89bebad889",
   "metadata": {},
   "outputs": [],
   "source": [
    "# ------------------------------------------------------------\n",
    "# 🛠️ Cell: Specialist tools\n",
    "# ------------------------------------------------------------\n",
    "# 1) Calculator\n",
    "@tool\n",
    "def add(x: float, y: float) -> float:\n",
    "    \"\"\"Add two numbers.\"\"\"\n",
    "    return x + y\n",
    "\n",
    "@tool\n",
    "def multiply(x: float, y: float) -> float:\n",
    "    \"\"\"Multiply two numbers.\"\"\"\n",
    "    return x * y\n",
    "\n",
    "# 2) Wikipedia search (uses the wikipedia Python package)\n",
    "import wikipedia\n",
    "\n",
    "@tool\n",
    "def wiki_summary(topic: str, sentences: int = 2) -> str:\n",
    "    \"\"\"\n",
    "    Grab a short summary from Wikipedia.\n",
    "    \"\"\"\n",
    "    return wikipedia.summary(topic, sentences=sentences)\n",
    "\n",
    "# Keep tool lists separate for clarity\n",
    "math_tools = [add, multiply]\n",
    "wiki_tools = [wiki_summary]"
   ]
  },
  {
   "cell_type": "code",
   "execution_count": 13,
   "id": "726f7bc7-1118-4dee-96a6-52656762225b",
   "metadata": {},
   "outputs": [],
   "source": [
    "# ------------------------------------------------------------\n",
    "# 🤖 Cell: Build the specialist agents\n",
    "# ------------------------------------------------------------\n",
    "math_agent = create_react_agent(\n",
    "    LLM, math_tools\n",
    ")\n",
    "\n",
    "wiki_agent = create_react_agent(\n",
    "    LLM, wiki_tools\n",
    ")\n",
    "\n",
    "# Helper lookup so the Router can call by name\n",
    "AGENTS = {\n",
    "    \"math\": math_agent,\n",
    "    \"wiki\": wiki_agent\n",
    "}"
   ]
  },
  {
   "cell_type": "markdown",
   "id": "daa179fb-919c-4934-b75f-0a5a54be31c0",
   "metadata": {},
   "source": [
    "## Step 4: Router: deciding which agent to use\n",
    "\n",
    "We’ll keep routing logic *inside* an LLM for flexibility.  \n",
    "The model outputs a label **\"math\"** or **\"wiki\"** that maps to one of our AGENTS."
   ]
  },
  {
   "cell_type": "code",
   "execution_count": 18,
   "id": "b0f03ceb-3010-4cd9-9418-9b0293192620",
   "metadata": {},
   "outputs": [],
   "source": [
    "# ------------------------------------------------------------\n",
    "# 🧭 Cell: Router node – classification with LLM\n",
    "# ------------------------------------------------------------\n",
    "class Route(BaseModel):\n",
    "    destination: Literal[\"math\", \"wiki\"]\n",
    "    reasoning: str                           # for transparency\n",
    "\n",
    "def router_fn(question: str) -> Route:\n",
    "    prompt = f\"\"\"\n",
    "    Classify the user question into one label:\n",
    "    - \"math\"  → if it involves arithmetic or units/measurements\n",
    "    - \"wiki\" → if it asks for factual or encyclopedic info\n",
    "\n",
    "    Respond ONLY with the label, nothing else.\n",
    "\n",
    "    Question: {question}\n",
    "    \"\"\"\n",
    "    label = LLM.invoke(prompt).content.strip().lower()\n",
    "    if label not in [\"math\", \"wiki\"]:\n",
    "        label = \"wiki\"                       # default fallback\n",
    "    return Route(destination=label, reasoning=f\"LLM chose '{label}'.\")"
   ]
  },
  {
   "cell_type": "code",
   "execution_count": 20,
   "id": "72d9917d-a7e2-43d0-ac38-1f562f382679",
   "metadata": {},
   "outputs": [],
   "source": [
    "# ------------------------------------------------------------\n",
    "# 🗺️ Cell: Construct the MAS graph in LangGraph\n",
    "# ------------------------------------------------------------\n",
    "class State(TypedDict):\n",
    "    question: str\n",
    "    route: Route\n",
    "    answer: str\n",
    "\n",
    "mas = StateGraph(State)\n",
    "\n",
    "# Node 1 – Router\n",
    "def router_node(state: State) -> State:\n",
    "    state[\"route\"] = router_fn(state[\"question\"])\n",
    "    return state\n",
    "mas.add_node(\"router\", router_node)\n",
    "\n",
    "# Node 2 – MathAgent wrapper\n",
    "def math_node(state: State) -> State:\n",
    "    response = AGENTS[\"math\"].invoke({\"messages\": state[\"question\"]})\n",
    "    state[\"answer\"] = response[\"messages\"][-1].content\n",
    "    return state\n",
    "mas.add_node(\"MathAgent\", math_node)\n",
    "\n",
    "# Node 3 – WikiAgent wrapper\n",
    "def wiki_node(state: State) -> State:\n",
    "    response = AGENTS[\"wiki\"].invoke({\"messages\": state[\"question\"]})\n",
    "    state[\"answer\"] = response[\"messages\"][-1].content\n",
    "    return state\n",
    "mas.add_node(\"WikiAgent\", wiki_node)\n",
    "\n",
    "# Conditional edges based on router output\n",
    "mas.add_conditional_edges(\n",
    "    \"router\",\n",
    "    lambda s: s[\"route\"].destination,        # returns \"math\" or \"wiki\"\n",
    "    {\n",
    "        \"math\": \"MathAgent\",\n",
    "        \"wiki\": \"WikiAgent\"\n",
    "    }\n",
    ")\n",
    "\n",
    "# Terminal edge: both specialists go to END\n",
    "mas.add_edge(START, \"router\")\n",
    "mas.add_edge(\"MathAgent\", END)               # END is a special sentinel in LangGraph\n",
    "mas.add_edge(\"WikiAgent\", END)\n",
    "\n",
    "graph = mas.compile()"
   ]
  },
  {
   "cell_type": "code",
   "execution_count": 21,
   "id": "23497676-0940-407b-8bfe-9d3acd6ce5ea",
   "metadata": {},
   "outputs": [
    {
     "data": {
      "image/png": "[encoded data removed]",
      "text/plain": [
       "<IPython.core.display.Image object>"
      ]
     },
     "execution_count": 21,
     "metadata": {},
     "output_type": "execute_result"
    }
   ],
   "source": [
    "Image(graph.get_graph().draw_mermaid_png())"
   ]
  },
  {
   "cell_type": "code",
   "execution_count": 23,
   "id": "af23082c-d9ef-4a3e-9fe0-608c44cf6a54",
   "metadata": {},
   "outputs": [
    {
     "name": "stdout",
     "output_type": "stream",
     "text": [
      "\n",
      "🔸 Question: What is 7.5 times 12?\n",
      "🤖 Answer: 7.5 times 12 is 90.0.\n",
      "🧠 Route chosen: destination='math' reasoning=\"LLM chose 'math'.\"\n",
      "\n",
      "\n",
      "🔸 Question: Who wrote *The Great Gatsby*?\n",
      "🤖 Answer: *The Great Gatsby* was written by F. Scott Fitzgerald.\n",
      "🧠 Route chosen: destination='wiki' reasoning=\"LLM chose 'wiki'.\"\n",
      "\n",
      "\n",
      "🔸 Question: Add 42 and 19\n",
      "🤖 Answer: The sum of 42 and 19 is 61.\n",
      "🧠 Route chosen: destination='math' reasoning=\"LLM chose 'math'.\"\n",
      "\n",
      "\n",
      "🔸 Question: Tell me about the Eiffel Tower\n",
      "🤖 Answer: The Eiffel Tower is a wrought-iron lattice tower located on the Champ de Mars in Paris, France. It is named after the engineer Gustave Eiffel, whose company designed and constructed the tower between 1887 and 1889.\n",
      "🧠 Route chosen: destination='wiki' reasoning=\"LLM chose 'wiki'.\"\n",
      "\n"
     ]
    }
   ],
   "source": [
    "# ------------------------------------------------------------\n",
    "# 🚀 Cell: Try it out!\n",
    "# ------------------------------------------------------------\n",
    "examples = [\n",
    "    \"What is 7.5 times 12?\",\n",
    "    \"Who wrote *The Great Gatsby*?\",\n",
    "    \"Add 42 and 19\",\n",
    "    \"Tell me about the Eiffel Tower\"\n",
    "]\n",
    "\n",
    "for q in examples:\n",
    "    print(\"\\n🔸 Question:\", q)\n",
    "    result = graph.invoke({\"question\": q})\n",
    "    print(\"🤖 Answer:\", result[\"answer\"])\n",
    "    print(\"🧠 Route chosen:\", result[\"route\"])\n",
    "    print()\n",
    "    # break # uncomment to just run one question"
   ]
  },
  {
   "cell_type": "markdown",
   "id": "2654f5a0-01c2-4283-b952-aaf5fb2ccd57",
   "metadata": {},
   "source": [
    "## Step 5: Hands-on exercise\n",
    "\n",
    "1. **Write your own tool**  \n",
    "   - Ideas: `fahrenheit_to_celsius`, simple algebra solver, currency converter (fake FX rates).  \n",
    "   - Decorate with `@tool` and add it to a *new* specialist agent.\n",
    "\n",
    "2. **Extend the router**  \n",
    "   - Add a new label, e.g. `\"convert\"`, and update `router_fn` plus `AGENTS`.\n",
    "\n",
    "3. **Run at least three user queries** that exercise **all** of your specialists.\n",
    "\n",
    "4. **Stretch goal** ⭐  \n",
    "   - Make the Router return *both* a destination **and** an *explanation* of why it chose that agent, then include that reasoning in your final answer."
   ]
  },
  {
   "cell_type": "code",
   "execution_count": null,
   "id": "ff780858-c32d-486c-bc29-a6f82f51061b",
   "metadata": {},
   "outputs": [],
   "source": []
  }
 ],
 "metadata": {
  "kernelspec": {
   "display_name": "Python 3 (ipykernel)",
   "language": "python",
   "name": "python3"
  },
  "language_info": {
   "codemirror_mode": {
    "name": "ipython",
    "version": 3
   },
   "file_extension": ".py",
   "mimetype": "text/x-python",
   "name": "python",
   "nbconvert_exporter": "python",
   "pygments_lexer": "ipython3",
   "version": "3.13.2"
  }
 },
 "nbformat": 4,
 "nbformat_minor": 5
}
